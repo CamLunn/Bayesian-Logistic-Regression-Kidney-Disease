{
 "cells": [
  {
   "cell_type": "code",
   "execution_count": 69,
   "metadata": {},
   "outputs": [
    {
     "name": "stdout",
     "output_type": "stream",
     "text": [
      "Requirement already satisfied: python-snappy in /Users/ethanratliff-crain/opt/anaconda3/lib/python3.9/site-packages (0.6.1)\n"
     ]
    },
    {
     "ename": "TypeError",
     "evalue": "'type' object is not subscriptable",
     "output_type": "error",
     "traceback": [
      "\u001b[0;31m---------------------------------------------------------------------------\u001b[0m",
      "\u001b[0;31mTypeError\u001b[0m                                 Traceback (most recent call last)",
      "\u001b[1;32m/Users/ethanratliff-crain/githubProjects/Bayesian-Multinomial-Regression-Kidney-Disease/model_notebook_1.ipynb Cell 1\u001b[0m line \u001b[0;36m1\n\u001b[1;32m     <a href='vscode-notebook-cell:/Users/ethanratliff-crain/githubProjects/Bayesian-Multinomial-Regression-Kidney-Disease/model_notebook_1.ipynb#W0sZmlsZQ%3D%3D?line=15'>16</a>\u001b[0m \u001b[39m# !pip install arviz\u001b[39;00m\n\u001b[1;32m     <a href='vscode-notebook-cell:/Users/ethanratliff-crain/githubProjects/Bayesian-Multinomial-Regression-Kidney-Disease/model_notebook_1.ipynb#W0sZmlsZQ%3D%3D?line=16'>17</a>\u001b[0m get_ipython()\u001b[39m.\u001b[39msystem(\u001b[39m'\u001b[39m\u001b[39mpip install python-snappy\u001b[39m\u001b[39m'\u001b[39m)\n\u001b[0;32m---> <a href='vscode-notebook-cell:/Users/ethanratliff-crain/githubProjects/Bayesian-Multinomial-Regression-Kidney-Disease/model_notebook_1.ipynb#W0sZmlsZQ%3D%3D?line=17'>18</a>\u001b[0m \u001b[39mimport\u001b[39;00m \u001b[39marviz\u001b[39;00m\n\u001b[1;32m     <a href='vscode-notebook-cell:/Users/ethanratliff-crain/githubProjects/Bayesian-Multinomial-Regression-Kidney-Disease/model_notebook_1.ipynb#W0sZmlsZQ%3D%3D?line=19'>20</a>\u001b[0m \u001b[39mimport\u001b[39;00m \u001b[39mmatplotlib\u001b[39;00m\u001b[39m.\u001b[39;00m\u001b[39mpyplot\u001b[39;00m \u001b[39mas\u001b[39;00m \u001b[39mplt\u001b[39;00m\n\u001b[1;32m     <a href='vscode-notebook-cell:/Users/ethanratliff-crain/githubProjects/Bayesian-Multinomial-Regression-Kidney-Disease/model_notebook_1.ipynb#W0sZmlsZQ%3D%3D?line=20'>21</a>\u001b[0m \u001b[39mimport\u001b[39;00m \u001b[39mseaborn\u001b[39;00m \u001b[39mas\u001b[39;00m \u001b[39msns\u001b[39;00m\n",
      "File \u001b[0;32m~/opt/anaconda3/lib/python3.9/site-packages/arviz/__init__.py:33\u001b[0m\n\u001b[1;32m     27\u001b[0m         \u001b[39msuper\u001b[39m()\u001b[39m.\u001b[39m_log(level, msg, \u001b[39m*\u001b[39margs, \u001b[39m*\u001b[39m\u001b[39m*\u001b[39mkwargs)\n\u001b[1;32m     30\u001b[0m _log \u001b[39m=\u001b[39m Logger(\u001b[39m\"\u001b[39m\u001b[39marviz\u001b[39m\u001b[39m\"\u001b[39m)\n\u001b[0;32m---> 33\u001b[0m \u001b[39mfrom\u001b[39;00m \u001b[39m.\u001b[39;00m\u001b[39mdata\u001b[39;00m \u001b[39mimport\u001b[39;00m \u001b[39m*\u001b[39m\n\u001b[1;32m     34\u001b[0m \u001b[39mfrom\u001b[39;00m \u001b[39m.\u001b[39;00m\u001b[39mplots\u001b[39;00m \u001b[39mimport\u001b[39;00m \u001b[39m*\u001b[39m\n\u001b[1;32m     35\u001b[0m \u001b[39mfrom\u001b[39;00m \u001b[39m.\u001b[39;00m\u001b[39mplots\u001b[39;00m\u001b[39m.\u001b[39;00m\u001b[39mbackends\u001b[39;00m \u001b[39mimport\u001b[39;00m \u001b[39m*\u001b[39m\n",
      "File \u001b[0;32m~/opt/anaconda3/lib/python3.9/site-packages/arviz/data/__init__.py:2\u001b[0m\n\u001b[1;32m      1\u001b[0m \u001b[39m\"\"\"Code for loading and manipulating data structures.\"\"\"\u001b[39;00m\n\u001b[0;32m----> 2\u001b[0m \u001b[39mfrom\u001b[39;00m \u001b[39m.\u001b[39;00m\u001b[39mbase\u001b[39;00m \u001b[39mimport\u001b[39;00m CoordSpec, DimSpec, dict_to_dataset, numpy_to_data_array\n\u001b[1;32m      3\u001b[0m \u001b[39mfrom\u001b[39;00m \u001b[39m.\u001b[39;00m\u001b[39mconverters\u001b[39;00m \u001b[39mimport\u001b[39;00m convert_to_dataset, convert_to_inference_data\n\u001b[1;32m      4\u001b[0m \u001b[39mfrom\u001b[39;00m \u001b[39m.\u001b[39;00m\u001b[39mdatasets\u001b[39;00m \u001b[39mimport\u001b[39;00m clear_data_home, list_datasets, load_arviz_data\n",
      "File \u001b[0;32m~/opt/anaconda3/lib/python3.9/site-packages/arviz/data/base.py:11\u001b[0m\n\u001b[1;32m      8\u001b[0m \u001b[39mfrom\u001b[39;00m \u001b[39mtyping\u001b[39;00m \u001b[39mimport\u001b[39;00m Any, Callable, Dict, List, Optional, Tuple, TypeVar, Union\n\u001b[1;32m     10\u001b[0m \u001b[39mimport\u001b[39;00m \u001b[39mnumpy\u001b[39;00m \u001b[39mas\u001b[39;00m \u001b[39mnp\u001b[39;00m\n\u001b[0;32m---> 11\u001b[0m \u001b[39mimport\u001b[39;00m \u001b[39mxarray\u001b[39;00m \u001b[39mas\u001b[39;00m \u001b[39mxr\u001b[39;00m\n\u001b[1;32m     13\u001b[0m \u001b[39mtry\u001b[39;00m:\n\u001b[1;32m     14\u001b[0m     \u001b[39mimport\u001b[39;00m \u001b[39mujson\u001b[39;00m \u001b[39mas\u001b[39;00m \u001b[39mjson\u001b[39;00m\n",
      "File \u001b[0;32m~/opt/anaconda3/lib/python3.9/site-packages/xarray/__init__.py:1\u001b[0m\n\u001b[0;32m----> 1\u001b[0m \u001b[39mfrom\u001b[39;00m \u001b[39m.\u001b[39;00m \u001b[39mimport\u001b[39;00m testing, tutorial\n\u001b[1;32m      2\u001b[0m \u001b[39mfrom\u001b[39;00m \u001b[39m.\u001b[39;00m\u001b[39mbackends\u001b[39;00m\u001b[39m.\u001b[39;00m\u001b[39mapi\u001b[39;00m \u001b[39mimport\u001b[39;00m (\n\u001b[1;32m      3\u001b[0m     load_dataarray,\n\u001b[1;32m      4\u001b[0m     load_dataset,\n\u001b[0;32m   (...)\u001b[0m\n\u001b[1;32m      8\u001b[0m     save_mfdataset,\n\u001b[1;32m      9\u001b[0m )\n\u001b[1;32m     10\u001b[0m \u001b[39mfrom\u001b[39;00m \u001b[39m.\u001b[39;00m\u001b[39mbackends\u001b[39;00m\u001b[39m.\u001b[39;00m\u001b[39mrasterio_\u001b[39;00m \u001b[39mimport\u001b[39;00m open_rasterio\n",
      "File \u001b[0;32m~/opt/anaconda3/lib/python3.9/site-packages/xarray/testing.py:10\u001b[0m\n\u001b[1;32m      7\u001b[0m \u001b[39mimport\u001b[39;00m \u001b[39mpandas\u001b[39;00m \u001b[39mas\u001b[39;00m \u001b[39mpd\u001b[39;00m\n\u001b[1;32m      9\u001b[0m \u001b[39mfrom\u001b[39;00m \u001b[39mxarray\u001b[39;00m\u001b[39m.\u001b[39;00m\u001b[39mcore\u001b[39;00m \u001b[39mimport\u001b[39;00m duck_array_ops, formatting, utils\n\u001b[0;32m---> 10\u001b[0m \u001b[39mfrom\u001b[39;00m \u001b[39mxarray\u001b[39;00m\u001b[39m.\u001b[39;00m\u001b[39mcore\u001b[39;00m\u001b[39m.\u001b[39;00m\u001b[39mdataarray\u001b[39;00m \u001b[39mimport\u001b[39;00m DataArray\n\u001b[1;32m     11\u001b[0m \u001b[39mfrom\u001b[39;00m \u001b[39mxarray\u001b[39;00m\u001b[39m.\u001b[39;00m\u001b[39mcore\u001b[39;00m\u001b[39m.\u001b[39;00m\u001b[39mdataset\u001b[39;00m \u001b[39mimport\u001b[39;00m Dataset\n\u001b[1;32m     12\u001b[0m \u001b[39mfrom\u001b[39;00m \u001b[39mxarray\u001b[39;00m\u001b[39m.\u001b[39;00m\u001b[39mcore\u001b[39;00m\u001b[39m.\u001b[39;00m\u001b[39mindexes\u001b[39;00m \u001b[39mimport\u001b[39;00m Index, PandasIndex, PandasMultiIndex, default_indexes\n",
      "File \u001b[0;32m~/opt/anaconda3/lib/python3.9/site-packages/xarray/core/dataarray.py:23\u001b[0m\n\u001b[1;32m     20\u001b[0m \u001b[39mimport\u001b[39;00m \u001b[39mnumpy\u001b[39;00m \u001b[39mas\u001b[39;00m \u001b[39mnp\u001b[39;00m\n\u001b[1;32m     21\u001b[0m \u001b[39mimport\u001b[39;00m \u001b[39mpandas\u001b[39;00m \u001b[39mas\u001b[39;00m \u001b[39mpd\u001b[39;00m\n\u001b[0;32m---> 23\u001b[0m \u001b[39mfrom\u001b[39;00m \u001b[39m.\u001b[39;00m\u001b[39m.\u001b[39;00m\u001b[39mcoding\u001b[39;00m\u001b[39m.\u001b[39;00m\u001b[39mcalendar_ops\u001b[39;00m \u001b[39mimport\u001b[39;00m convert_calendar, interp_calendar\n\u001b[1;32m     24\u001b[0m \u001b[39mfrom\u001b[39;00m \u001b[39m.\u001b[39;00m\u001b[39m.\u001b[39;00m\u001b[39mcoding\u001b[39;00m\u001b[39m.\u001b[39;00m\u001b[39mcftimeindex\u001b[39;00m \u001b[39mimport\u001b[39;00m CFTimeIndex\n\u001b[1;32m     25\u001b[0m \u001b[39mfrom\u001b[39;00m \u001b[39m.\u001b[39;00m\u001b[39m.\u001b[39;00m\u001b[39mplot\u001b[39;00m\u001b[39m.\u001b[39;00m\u001b[39maccessor\u001b[39;00m \u001b[39mimport\u001b[39;00m DataArrayPlotAccessor\n",
      "File \u001b[0;32m~/opt/anaconda3/lib/python3.9/site-packages/xarray/coding/calendar_ops.py:7\u001b[0m\n\u001b[1;32m      4\u001b[0m \u001b[39mimport\u001b[39;00m \u001b[39mpandas\u001b[39;00m \u001b[39mas\u001b[39;00m \u001b[39mpd\u001b[39;00m\n\u001b[1;32m      6\u001b[0m \u001b[39mfrom\u001b[39;00m \u001b[39m.\u001b[39;00m\u001b[39m.\u001b[39;00m\u001b[39mcore\u001b[39;00m\u001b[39m.\u001b[39;00m\u001b[39mcommon\u001b[39;00m \u001b[39mimport\u001b[39;00m _contains_datetime_like_objects, is_np_datetime_like\n\u001b[0;32m----> 7\u001b[0m \u001b[39mfrom\u001b[39;00m \u001b[39m.\u001b[39;00m\u001b[39mcftime_offsets\u001b[39;00m \u001b[39mimport\u001b[39;00m date_range_like, get_date_type\n\u001b[1;32m      8\u001b[0m \u001b[39mfrom\u001b[39;00m \u001b[39m.\u001b[39;00m\u001b[39mcftimeindex\u001b[39;00m \u001b[39mimport\u001b[39;00m CFTimeIndex\n\u001b[1;32m      9\u001b[0m \u001b[39mfrom\u001b[39;00m \u001b[39m.\u001b[39;00m\u001b[39mtimes\u001b[39;00m \u001b[39mimport\u001b[39;00m _should_cftime_be_used, convert_times\n",
      "File \u001b[0;32m~/opt/anaconda3/lib/python3.9/site-packages/xarray/coding/cftime_offsets.py:54\u001b[0m\n\u001b[1;32m     52\u001b[0m \u001b[39mfrom\u001b[39;00m \u001b[39m.\u001b[39;00m\u001b[39m.\u001b[39;00m\u001b[39mcore\u001b[39;00m\u001b[39m.\u001b[39;00m\u001b[39mcommon\u001b[39;00m \u001b[39mimport\u001b[39;00m _contains_datetime_like_objects, is_np_datetime_like\n\u001b[1;32m     53\u001b[0m \u001b[39mfrom\u001b[39;00m \u001b[39m.\u001b[39;00m\u001b[39m.\u001b[39;00m\u001b[39mcore\u001b[39;00m\u001b[39m.\u001b[39;00m\u001b[39mpdcompat\u001b[39;00m \u001b[39mimport\u001b[39;00m count_not_none\n\u001b[0;32m---> 54\u001b[0m \u001b[39mfrom\u001b[39;00m \u001b[39m.\u001b[39;00m\u001b[39mcftimeindex\u001b[39;00m \u001b[39mimport\u001b[39;00m CFTimeIndex, _parse_iso8601_with_reso\n\u001b[1;32m     55\u001b[0m \u001b[39mfrom\u001b[39;00m \u001b[39m.\u001b[39;00m\u001b[39mtimes\u001b[39;00m \u001b[39mimport\u001b[39;00m (\n\u001b[1;32m     56\u001b[0m     _is_standard_calendar,\n\u001b[1;32m     57\u001b[0m     _should_cftime_be_used,\n\u001b[1;32m     58\u001b[0m     convert_time_or_go_back,\n\u001b[1;32m     59\u001b[0m     format_cftime_datetime,\n\u001b[1;32m     60\u001b[0m )\n\u001b[1;32m     62\u001b[0m \u001b[39mtry\u001b[39;00m:\n",
      "File \u001b[0;32m~/opt/anaconda3/lib/python3.9/site-packages/xarray/coding/cftimeindex.py:56\u001b[0m\n\u001b[1;32m     54\u001b[0m \u001b[39mfrom\u001b[39;00m \u001b[39m.\u001b[39;00m\u001b[39m.\u001b[39;00m\u001b[39mcore\u001b[39;00m\u001b[39m.\u001b[39;00m\u001b[39mcommon\u001b[39;00m \u001b[39mimport\u001b[39;00m _contains_cftime_datetimes\n\u001b[1;32m     55\u001b[0m \u001b[39mfrom\u001b[39;00m \u001b[39m.\u001b[39;00m\u001b[39m.\u001b[39;00m\u001b[39mcore\u001b[39;00m\u001b[39m.\u001b[39;00m\u001b[39moptions\u001b[39;00m \u001b[39mimport\u001b[39;00m OPTIONS\n\u001b[0;32m---> 56\u001b[0m \u001b[39mfrom\u001b[39;00m \u001b[39m.\u001b[39;00m\u001b[39mtimes\u001b[39;00m \u001b[39mimport\u001b[39;00m _STANDARD_CALENDARS, cftime_to_nptime, infer_calendar_name\n\u001b[1;32m     58\u001b[0m \u001b[39mtry\u001b[39;00m:\n\u001b[1;32m     59\u001b[0m     \u001b[39mimport\u001b[39;00m \u001b[39mcftime\u001b[39;00m\n",
      "File \u001b[0;32m~/opt/anaconda3/lib/python3.9/site-packages/xarray/coding/times.py:17\u001b[0m\n\u001b[1;32m     15\u001b[0m \u001b[39mfrom\u001b[39;00m \u001b[39m.\u001b[39;00m\u001b[39m.\u001b[39;00m\u001b[39mcore\u001b[39;00m\u001b[39m.\u001b[39;00m\u001b[39mformatting\u001b[39;00m \u001b[39mimport\u001b[39;00m first_n_items, format_timestamp, last_item\n\u001b[1;32m     16\u001b[0m \u001b[39mfrom\u001b[39;00m \u001b[39m.\u001b[39;00m\u001b[39m.\u001b[39;00m\u001b[39mcore\u001b[39;00m\u001b[39m.\u001b[39;00m\u001b[39mpycompat\u001b[39;00m \u001b[39mimport\u001b[39;00m is_duck_dask_array\n\u001b[0;32m---> 17\u001b[0m \u001b[39mfrom\u001b[39;00m \u001b[39m.\u001b[39;00m\u001b[39m.\u001b[39;00m\u001b[39mcore\u001b[39;00m\u001b[39m.\u001b[39;00m\u001b[39mvariable\u001b[39;00m \u001b[39mimport\u001b[39;00m Variable\n\u001b[1;32m     18\u001b[0m \u001b[39mfrom\u001b[39;00m \u001b[39m.\u001b[39;00m\u001b[39mvariables\u001b[39;00m \u001b[39mimport\u001b[39;00m (\n\u001b[1;32m     19\u001b[0m     SerializationWarning,\n\u001b[1;32m     20\u001b[0m     VariableCoder,\n\u001b[0;32m   (...)\u001b[0m\n\u001b[1;32m     25\u001b[0m     unpack_for_encoding,\n\u001b[1;32m     26\u001b[0m )\n\u001b[1;32m     28\u001b[0m \u001b[39mtry\u001b[39;00m:\n",
      "File \u001b[0;32m~/opt/anaconda3/lib/python3.9/site-packages/xarray/core/variable.py:23\u001b[0m\n\u001b[1;32m     21\u001b[0m \u001b[39mimport\u001b[39;00m \u001b[39mnumpy\u001b[39;00m \u001b[39mas\u001b[39;00m \u001b[39mnp\u001b[39;00m\n\u001b[1;32m     22\u001b[0m \u001b[39mimport\u001b[39;00m \u001b[39mpandas\u001b[39;00m \u001b[39mas\u001b[39;00m \u001b[39mpd\u001b[39;00m\n\u001b[0;32m---> 23\u001b[0m \u001b[39mfrom\u001b[39;00m \u001b[39mnumpy\u001b[39;00m\u001b[39m.\u001b[39;00m\u001b[39mtyping\u001b[39;00m \u001b[39mimport\u001b[39;00m ArrayLike\n\u001b[1;32m     24\u001b[0m \u001b[39mfrom\u001b[39;00m \u001b[39mpackaging\u001b[39;00m\u001b[39m.\u001b[39;00m\u001b[39mversion\u001b[39;00m \u001b[39mimport\u001b[39;00m Version\n\u001b[1;32m     26\u001b[0m \u001b[39mimport\u001b[39;00m \u001b[39mxarray\u001b[39;00m \u001b[39mas\u001b[39;00m \u001b[39mxr\u001b[39;00m  \u001b[39m# only for Dataset and DataArray\u001b[39;00m\n",
      "File \u001b[0;32m~/opt/anaconda3/lib/python3.9/site-packages/numpy/typing/__init__.py:158\u001b[0m\n\u001b[1;32m      1\u001b[0m \u001b[39m\"\"\"\u001b[39;00m\n\u001b[1;32m      2\u001b[0m \u001b[39m============================\u001b[39;00m\n\u001b[1;32m      3\u001b[0m \u001b[39mTyping (:mod:`numpy.typing`)\u001b[39;00m\n\u001b[0;32m   (...)\u001b[0m\n\u001b[1;32m    153\u001b[0m \n\u001b[1;32m    154\u001b[0m \u001b[39m\"\"\"\u001b[39;00m\n\u001b[1;32m    155\u001b[0m \u001b[39m# NOTE: The API section will be appended with additional entries\u001b[39;00m\n\u001b[1;32m    156\u001b[0m \u001b[39m# further down in this file\u001b[39;00m\n\u001b[0;32m--> 158\u001b[0m \u001b[39mfrom\u001b[39;00m \u001b[39mnumpy\u001b[39;00m\u001b[39m.\u001b[39;00m\u001b[39m_typing\u001b[39;00m \u001b[39mimport\u001b[39;00m (\n\u001b[1;32m    159\u001b[0m     ArrayLike,\n\u001b[1;32m    160\u001b[0m     DTypeLike,\n\u001b[1;32m    161\u001b[0m     NBitBase,\n\u001b[1;32m    162\u001b[0m     NDArray,\n\u001b[1;32m    163\u001b[0m )\n\u001b[1;32m    165\u001b[0m __all__ \u001b[39m=\u001b[39m [\u001b[39m\"\u001b[39m\u001b[39mArrayLike\u001b[39m\u001b[39m\"\u001b[39m, \u001b[39m\"\u001b[39m\u001b[39mDTypeLike\u001b[39m\u001b[39m\"\u001b[39m, \u001b[39m\"\u001b[39m\u001b[39mNBitBase\u001b[39m\u001b[39m\"\u001b[39m, \u001b[39m\"\u001b[39m\u001b[39mNDArray\u001b[39m\u001b[39m\"\u001b[39m]\n\u001b[1;32m    167\u001b[0m \u001b[39mif\u001b[39;00m \u001b[39m__doc__\u001b[39m \u001b[39mis\u001b[39;00m \u001b[39mnot\u001b[39;00m \u001b[39mNone\u001b[39;00m:\n",
      "File \u001b[0;32m~/opt/anaconda3/lib/python3.9/site-packages/numpy/_typing/__init__.py:148\u001b[0m\n\u001b[1;32m     95\u001b[0m \u001b[39mfrom\u001b[39;00m \u001b[39m.\u001b[39;00m\u001b[39m_nbit\u001b[39;00m \u001b[39mimport\u001b[39;00m (\n\u001b[1;32m     96\u001b[0m     _NBitByte \u001b[39mas\u001b[39;00m _NBitByte,\n\u001b[1;32m     97\u001b[0m     _NBitShort \u001b[39mas\u001b[39;00m _NBitShort,\n\u001b[0;32m   (...)\u001b[0m\n\u001b[1;32m    105\u001b[0m     _NBitLongDouble \u001b[39mas\u001b[39;00m _NBitLongDouble,\n\u001b[1;32m    106\u001b[0m )\n\u001b[1;32m    107\u001b[0m \u001b[39mfrom\u001b[39;00m \u001b[39m.\u001b[39;00m\u001b[39m_char_codes\u001b[39;00m \u001b[39mimport\u001b[39;00m (\n\u001b[1;32m    108\u001b[0m     _BoolCodes \u001b[39mas\u001b[39;00m _BoolCodes,\n\u001b[1;32m    109\u001b[0m     _UInt8Codes \u001b[39mas\u001b[39;00m _UInt8Codes,\n\u001b[0;32m   (...)\u001b[0m\n\u001b[1;32m    146\u001b[0m     _ObjectCodes \u001b[39mas\u001b[39;00m _ObjectCodes,\n\u001b[1;32m    147\u001b[0m )\n\u001b[0;32m--> 148\u001b[0m \u001b[39mfrom\u001b[39;00m \u001b[39m.\u001b[39;00m\u001b[39m_scalars\u001b[39;00m \u001b[39mimport\u001b[39;00m (\n\u001b[1;32m    149\u001b[0m     _CharLike_co \u001b[39mas\u001b[39;00m _CharLike_co,\n\u001b[1;32m    150\u001b[0m     _BoolLike_co \u001b[39mas\u001b[39;00m _BoolLike_co,\n\u001b[1;32m    151\u001b[0m     _UIntLike_co \u001b[39mas\u001b[39;00m _UIntLike_co,\n\u001b[1;32m    152\u001b[0m     _IntLike_co \u001b[39mas\u001b[39;00m _IntLike_co,\n\u001b[1;32m    153\u001b[0m     _FloatLike_co \u001b[39mas\u001b[39;00m _FloatLike_co,\n\u001b[1;32m    154\u001b[0m     _ComplexLike_co \u001b[39mas\u001b[39;00m _ComplexLike_co,\n\u001b[1;32m    155\u001b[0m     _TD64Like_co \u001b[39mas\u001b[39;00m _TD64Like_co,\n\u001b[1;32m    156\u001b[0m     _NumberLike_co \u001b[39mas\u001b[39;00m _NumberLike_co,\n\u001b[1;32m    157\u001b[0m     _ScalarLike_co \u001b[39mas\u001b[39;00m _ScalarLike_co,\n\u001b[1;32m    158\u001b[0m     _VoidLike_co \u001b[39mas\u001b[39;00m _VoidLike_co,\n\u001b[1;32m    159\u001b[0m )\n\u001b[1;32m    160\u001b[0m \u001b[39mfrom\u001b[39;00m \u001b[39m.\u001b[39;00m\u001b[39m_shape\u001b[39;00m \u001b[39mimport\u001b[39;00m (\n\u001b[1;32m    161\u001b[0m     _Shape \u001b[39mas\u001b[39;00m _Shape,\n\u001b[1;32m    162\u001b[0m     _ShapeLike \u001b[39mas\u001b[39;00m _ShapeLike,\n\u001b[1;32m    163\u001b[0m )\n\u001b[1;32m    164\u001b[0m \u001b[39mfrom\u001b[39;00m \u001b[39m.\u001b[39;00m\u001b[39m_dtype_like\u001b[39;00m \u001b[39mimport\u001b[39;00m (\n\u001b[1;32m    165\u001b[0m     DTypeLike \u001b[39mas\u001b[39;00m DTypeLike,\n\u001b[1;32m    166\u001b[0m     _DTypeLike \u001b[39mas\u001b[39;00m _DTypeLike,\n\u001b[0;32m   (...)\u001b[0m\n\u001b[1;32m    180\u001b[0m     _DTypeLikeComplex_co \u001b[39mas\u001b[39;00m _DTypeLikeComplex_co,\n\u001b[1;32m    181\u001b[0m )\n",
      "File \u001b[0;32m~/opt/anaconda3/lib/python3.9/site-packages/numpy/_typing/_scalars.py:13\u001b[0m\n\u001b[1;32m     10\u001b[0m \u001b[39m# The 6 `<X>Like_co` type-aliases below represent all scalars that can be\u001b[39;00m\n\u001b[1;32m     11\u001b[0m \u001b[39m# coerced into `<X>` (with the casting rule `same_kind`)\u001b[39;00m\n\u001b[1;32m     12\u001b[0m _BoolLike_co \u001b[39m=\u001b[39m Union[\u001b[39mbool\u001b[39m, np\u001b[39m.\u001b[39mbool_]\n\u001b[0;32m---> 13\u001b[0m _UIntLike_co \u001b[39m=\u001b[39m Union[_BoolLike_co, np\u001b[39m.\u001b[39;49munsignedinteger[Any]]\n\u001b[1;32m     14\u001b[0m _IntLike_co \u001b[39m=\u001b[39m Union[_BoolLike_co, \u001b[39mint\u001b[39m, np\u001b[39m.\u001b[39minteger[Any]]\n\u001b[1;32m     15\u001b[0m _FloatLike_co \u001b[39m=\u001b[39m Union[_IntLike_co, \u001b[39mfloat\u001b[39m, np\u001b[39m.\u001b[39mfloating[Any]]\n",
      "\u001b[0;31mTypeError\u001b[0m: 'type' object is not subscriptable"
     ]
    }
   ],
   "source": [
    "# import numerical functions, plotting functions and statistical functions\n",
    "import numpy as np\n",
    "# !pip install pip\n",
    "# !pip install --upgrade pip\n",
    "# !pip install scipy\n",
    "import scipy as sp\n",
    "import scipy.stats\n",
    "import pandas as pd\n",
    "\n",
    "# !pip install pystan\n",
    "import stan\n",
    "# !pip install nest_asyncio\n",
    "import nest_asyncio\n",
    "nest_asyncio.apply()\n",
    "\n",
    "# !pip install arviz\n",
    "import arviz\n",
    "\n",
    "import matplotlib.pyplot as plt\n",
    "import seaborn as sns\n",
    "sns.set_style('ticks')"
   ]
  },
  {
   "cell_type": "code",
   "execution_count": 70,
   "metadata": {},
   "outputs": [
    {
     "name": "stdout",
     "output_type": "stream",
     "text": [
      "arviz==0.16.1\n",
      "Note: you may need to restart the kernel to use updated packages.\n"
     ]
    }
   ],
   "source": [
    "pip freeze | grep arviz"
   ]
  },
  {
   "cell_type": "code",
   "execution_count": 29,
   "metadata": {},
   "outputs": [],
   "source": [
    "def diagnose(name):\n",
    "    if 'disease' in name:\n",
    "        return 1\n",
    "    else:\n",
    "        return 0"
   ]
  },
  {
   "cell_type": "code",
   "execution_count": 50,
   "metadata": {},
   "outputs": [],
   "source": [
    "df = pd.read_csv('./data/kidney_countdata.txt', sep='\\t', quotechar='\"')\n",
    "df.rename(columns={'Unnamed: 0': 'gene'}, inplace=True)\n",
    "\n",
    "meta_df = pd.read_csv('./data/kidney_metadata.txt', sep='\\t', quotechar='\"')\n",
    "meta_df.rename(columns={'Unnamed: 0': 'ROI'}, inplace=True)\n",
    "meta_df['diagnosis'] = meta_df['slide name'].map(diagnose)"
   ]
  },
  {
   "cell_type": "code",
   "execution_count": 55,
   "metadata": {},
   "outputs": [
    {
     "name": "stdout",
     "output_type": "stream",
     "text": [
      "269\n"
     ]
    }
   ],
   "source": [
    "df = df.head(100)\n",
    "threshold = 10\n",
    "column_list = [col for col in df.columns if col != 'gene' and sum(df[col]) >= 10]\n",
    "print(len(column_list))"
   ]
  },
  {
   "cell_type": "code",
   "execution_count": 19,
   "metadata": {},
   "outputs": [
    {
     "name": "stdout",
     "output_type": "stream",
     "text": [
      "3583\n",
      "485\n",
      "13\n",
      "1.923976011867084e-06\n",
      "277\n"
     ]
    }
   ],
   "source": [
    "print(sum(df['DSP-1001250007851-H-A02.dcc']))\n",
    "print(max(df['DSP-1001250007851-H-A02.dcc']))\n",
    "print(min(df[df['DSP-1001250007851-H-A02.dcc']>0]['DSP-1001250007851-H-A02.dcc']))\n",
    "print(1 / 519757)\n",
    "print(len(df.columns))"
   ]
  },
  {
   "cell_type": "markdown",
   "metadata": {},
   "source": [
    "We develop a multinomial model where the health status (Normal or Diseased) associated with a sample $m$ is the dependent variable $Y_m\\in\\{0,1\\}$ and the independent variable $X^m$ is the gene expression of the sample. We will model a score $Z=\\beta\\cdot X$, which can be converted into a probability of $Y_m$ given $(X^m,\\beta)$. In our initial implementation, we model the $\\beta$ values as being drawn from a normal distribution. Our model is therefore:\n",
    "$$Y\\in\\{0, 1\\}$$\n",
    "$$Y^i\\sim\\text{Bernoulli}\\left(\\rho_i\\right)$$\n",
    "$$Z_i=\\sum_j x_j^iB_j$$\n",
    "$$P\\left(Y_i\\right)=\\text{logit}\\left(Z_i\\right)$$\n",
    "$$B_j\\sim N\\left(0,\\sigma\\right)$$\n",
    "$$\\sigma=1$$"
   ]
  },
  {
   "cell_type": "code",
   "execution_count": 36,
   "metadata": {},
   "outputs": [],
   "source": [
    "# Note: below is based on Week 9 colab: https://colab.research.google.com/drive/1itBoJq9kUBVrEAkWWnsWtMB9RSrx1tt4?usp=sharing#scrollTo=abZBuL6lH-BL\n",
    "model_code = \"\"\"\n",
    "data {\n",
    "    int N;         // number of samples\n",
    "    int q;         // number of predictors\n",
    "    real X[N, q];  // predictors\n",
    "    int<lower=0,upper=1> Y[N];     // response\n",
    "    }\n",
    "parameters {\n",
    "    real alpha;\n",
    "    vector[q] beta;\n",
    "}\n",
    "transformed parameters {\n",
    "    real z[N];\n",
    "    for (i in 1:N) {\n",
    "        z[i] = alpha;\n",
    "        for (j in 1:q)\n",
    "        {\n",
    "            z[i] += beta[j] * X[i, j];   // add the effect of every predictor on the mean\n",
    "        }\n",
    "    }\n",
    "}\n",
    "model {\n",
    "    alpha ~ normal(0, 1);\n",
    "    beta ~ normal(0, 1);\n",
    "    for (i in 1:N) {\n",
    "        Y[i] ~ bernoulli_logit(z[i]);\n",
    "    }\n",
    "}\n",
    "\"\"\""
   ]
  },
  {
   "cell_type": "code",
   "execution_count": 52,
   "metadata": {},
   "outputs": [
    {
     "data": {
      "image/png": "[encoded data removed]",
      "text/plain": [
       "<Figure size 640x480 with 1 Axes>"
      ]
     },
     "metadata": {},
     "output_type": "display_data"
    },
    {
     "data": {
      "text/plain": [
       "(array([15., 12., 10.,  5.,  7.,  7.,  6., 12.,  6.,  7.,  7., 11., 15.,\n",
       "        21., 20., 10., 10., 11.,  4.,  2.,  9.,  8.,  6.,  1.,  5.,  5.,\n",
       "         3.,  2.,  1.,  1.,  4.,  1.,  0.,  0.,  0.,  1.,  2.,  1.,  2.,\n",
       "         0.,  0.,  3.,  1.,  1.,  1.,  1.,  3.,  0.,  1.,  0.,  0.,  2.,\n",
       "         0.,  1.,  1.,  0.,  0.,  0.,  0.,  1.,  0.,  0.,  1.,  1.,  0.,\n",
       "         0.,  1.,  0.,  2.,  1.,  1.,  0.,  1.,  0.,  0.,  0.,  1.,  0.,\n",
       "         0.,  0.,  0.,  0.,  0.,  0.,  0.,  0.,  0.,  0.,  0.,  0.,  0.,\n",
       "         0.,  0.,  0.,  0.,  0.,  0.,  0.,  0.,  1.]),\n",
       " array([1.00000000e+00, 1.93513900e+04, 3.87017800e+04, 5.80521700e+04,\n",
       "        7.74025600e+04, 9.67529500e+04, 1.16103340e+05, 1.35453730e+05,\n",
       "        1.54804120e+05, 1.74154510e+05, 1.93504900e+05, 2.12855290e+05,\n",
       "        2.32205680e+05, 2.51556070e+05, 2.70906460e+05, 2.90256850e+05,\n",
       "        3.09607240e+05, 3.28957630e+05, 3.48308020e+05, 3.67658410e+05,\n",
       "        3.87008800e+05, 4.06359190e+05, 4.25709580e+05, 4.45059970e+05,\n",
       "        4.64410360e+05, 4.83760750e+05, 5.03111140e+05, 5.22461530e+05,\n",
       "        5.41811920e+05, 5.61162310e+05, 5.80512700e+05, 5.99863090e+05,\n",
       "        6.19213480e+05, 6.38563870e+05, 6.57914260e+05, 6.77264650e+05,\n",
       "        6.96615040e+05, 7.15965430e+05, 7.35315820e+05, 7.54666210e+05,\n",
       "        7.74016600e+05, 7.93366990e+05, 8.12717380e+05, 8.32067770e+05,\n",
       "        8.51418160e+05, 8.70768550e+05, 8.90118940e+05, 9.09469330e+05,\n",
       "        9.28819720e+05, 9.48170110e+05, 9.67520500e+05, 9.86870890e+05,\n",
       "        1.00622128e+06, 1.02557167e+06, 1.04492206e+06, 1.06427245e+06,\n",
       "        1.08362284e+06, 1.10297323e+06, 1.12232362e+06, 1.14167401e+06,\n",
       "        1.16102440e+06, 1.18037479e+06, 1.19972518e+06, 1.21907557e+06,\n",
       "        1.23842596e+06, 1.25777635e+06, 1.27712674e+06, 1.29647713e+06,\n",
       "        1.31582752e+06, 1.33517791e+06, 1.35452830e+06, 1.37387869e+06,\n",
       "        1.39322908e+06, 1.41257947e+06, 1.43192986e+06, 1.45128025e+06,\n",
       "        1.47063064e+06, 1.48998103e+06, 1.50933142e+06, 1.52868181e+06,\n",
       "        1.54803220e+06, 1.56738259e+06, 1.58673298e+06, 1.60608337e+06,\n",
       "        1.62543376e+06, 1.64478415e+06, 1.66413454e+06, 1.68348493e+06,\n",
       "        1.70283532e+06, 1.72218571e+06, 1.74153610e+06, 1.76088649e+06,\n",
       "        1.78023688e+06, 1.79958727e+06, 1.81893766e+06, 1.83828805e+06,\n",
       "        1.85763844e+06, 1.87698883e+06, 1.89633922e+06, 1.91568961e+06,\n",
       "        1.93504000e+06]),\n",
       " <BarContainer object of 100 artists>)"
      ]
     },
     "execution_count": 52,
     "metadata": {},
     "output_type": "execute_result"
    },
    {
     "data": {
      "image/png": "[encoded data removed]",
      "text/plain": [
       "<Figure size 640x480 with 1 Axes>"
      ]
     },
     "metadata": {},
     "output_type": "display_data"
    }
   ],
   "source": [
    "counts = [sum(df[col]) for col in df.columns[1:]]\n",
    "counts.sort()\n",
    "ccdf = 1.0 - np.arange(len(counts)) / len(counts)\n",
    "plt.plot(counts, ccdf)\n",
    "plt.xscale('log')\n",
    "plt.yscale('log')\n",
    "plt.show()\n",
    "plt.hist(counts, bins=100)\n",
    "# for col in df.columns[1:]:\n",
    "#     if sum(df[col]) < 10:\n",
    "#         print(col)\n",
    "#         print(sum(df[col]))"
   ]
  },
  {
   "cell_type": "code",
   "execution_count": null,
   "metadata": {},
   "outputs": [],
   "source": []
  },
  {
   "cell_type": "code",
   "execution_count": 58,
   "metadata": {},
   "outputs": [
    {
     "name": "stdout",
     "output_type": "stream",
     "text": [
      "269\n",
      "269\n"
     ]
    }
   ],
   "source": [
    "# Currently normalizing by sum of all counts for an ROI, multiplied by 1,000 to prevent underflow\n",
    "X = np.array([df[col]*10/sum(df[col]) for col in column_list])\n",
    "print(len(X))\n",
    "\n",
    "Y = []\n",
    "for col in column_list:\n",
    "    Y.append(meta_df[meta_df['ROI']==col]['diagnosis'].values[0])\n",
    "\n",
    "print(len(Y))"
   ]
  },
  {
   "cell_type": "code",
   "execution_count": null,
   "metadata": {},
   "outputs": [],
   "source": []
  },
  {
   "cell_type": "code",
   "execution_count": 59,
   "metadata": {},
   "outputs": [
    {
     "name": "stdout",
     "output_type": "stream",
     "text": [
      "Building...\n"
     ]
    },
    {
     "name": "stderr",
     "output_type": "stream",
     "text": [
      "\n",
      "Building: found in cache, done.Messages from stanc:\n",
      "Warning in '/var/folders/kz/zvrl2np1735fmnw3g0klx3c40000gn/T/httpstan_b6bhz2yn/model_ducafblz.stan', line 5, column 4: Declaration\n",
      "    of arrays by placing brackets after a variable name is deprecated and\n",
      "    will be removed in Stan 2.33.0. Instead use the array keyword before the\n",
      "    type. This can be changed automatically using the auto-format flag to\n",
      "    stanc\n",
      "Warning in '/var/folders/kz/zvrl2np1735fmnw3g0klx3c40000gn/T/httpstan_b6bhz2yn/model_ducafblz.stan', line 6, column 4: Declaration\n",
      "    of arrays by placing brackets after a variable name is deprecated and\n",
      "    will be removed in Stan 2.33.0. Instead use the array keyword before the\n",
      "    type. This can be changed automatically using the auto-format flag to\n",
      "    stanc\n",
      "Warning in '/var/folders/kz/zvrl2np1735fmnw3g0klx3c40000gn/T/httpstan_b6bhz2yn/model_ducafblz.stan', line 13, column 4: Declaration\n",
      "    of arrays by placing brackets after a variable name is deprecated and\n",
      "    will be removed in Stan 2.33.0. Instead use the array keyword before the\n",
      "    type. This can be changed automatically using the auto-format flag to\n",
      "    stanc\n"
     ]
    }
   ],
   "source": [
    "model = stan.build(model_code, data={'N': len(X), 'q': len(df), 'X': X, 'Y': Y})"
   ]
  },
  {
   "cell_type": "code",
   "execution_count": 60,
   "metadata": {},
   "outputs": [
    {
     "name": "stderr",
     "output_type": "stream",
     "text": [
      "Sampling:   0%\n",
      "Sampling:   0% (1/8000)\n",
      "Sampling:   0% (2/8000)\n",
      "Sampling:   0% (3/8000)\n",
      "Sampling:   0% (4/8000)\n",
      "Sampling:   1% (103/8000)\n",
      "Sampling:   3% (202/8000)\n",
      "Sampling:   4% (301/8000)\n",
      "Sampling:   5% (400/8000)\n",
      "Sampling:   6% (500/8000)\n",
      "Sampling:   8% (600/8000)\n",
      "Sampling:   9% (700/8000)\n",
      "Sampling:  10% (800/8000)\n",
      "Sampling:  11% (900/8000)\n",
      "Sampling:  12% (1000/8000)\n",
      "Sampling:  14% (1100/8000)\n",
      "Sampling:  15% (1200/8000)\n",
      "Sampling:  16% (1300/8000)\n",
      "Sampling:  18% (1400/8000)\n",
      "Sampling:  19% (1500/8000)\n",
      "Sampling:  20% (1600/8000)\n",
      "Sampling:  21% (1700/8000)\n",
      "Sampling:  22% (1800/8000)\n",
      "Sampling:  24% (1900/8000)\n",
      "Sampling:  25% (2000/8000)\n",
      "Sampling:  26% (2100/8000)\n",
      "Sampling:  28% (2200/8000)\n",
      "Sampling:  29% (2300/8000)\n",
      "Sampling:  30% (2400/8000)\n",
      "Sampling:  31% (2500/8000)\n",
      "Sampling:  32% (2600/8000)\n",
      "Sampling:  34% (2700/8000)\n",
      "Sampling:  35% (2800/8000)\n",
      "Sampling:  36% (2900/8000)\n",
      "Sampling:  38% (3000/8000)\n",
      "Sampling:  39% (3100/8000)\n",
      "Sampling:  40% (3200/8000)\n",
      "Sampling:  41% (3300/8000)\n",
      "Sampling:  42% (3400/8000)\n",
      "Sampling:  44% (3500/8000)\n",
      "Sampling:  45% (3600/8000)\n",
      "Sampling:  46% (3701/8000)\n",
      "Sampling:  48% (3802/8000)\n",
      "Sampling:  49% (3902/8000)\n",
      "Sampling:  49% (3903/8000)\n",
      "Sampling:  50% (4004/8000)\n",
      "Sampling:  51% (4103/8000)\n",
      "Sampling:  53% (4202/8000)\n",
      "Sampling:  54% (4301/8000)\n",
      "Sampling:  55% (4400/8000)\n",
      "Sampling:  56% (4500/8000)\n",
      "Sampling:  58% (4600/8000)\n",
      "Sampling:  59% (4700/8000)\n",
      "Sampling:  60% (4800/8000)\n",
      "Sampling:  61% (4900/8000)\n",
      "Sampling:  62% (5000/8000)\n",
      "Sampling:  64% (5100/8000)\n",
      "Sampling:  65% (5200/8000)\n",
      "Sampling:  66% (5300/8000)\n",
      "Sampling:  68% (5400/8000)\n",
      "Sampling:  69% (5500/8000)\n",
      "Sampling:  70% (5600/8000)\n",
      "Sampling:  71% (5700/8000)\n",
      "Sampling:  72% (5800/8000)\n",
      "Sampling:  74% (5900/8000)\n",
      "Sampling:  75% (6000/8000)\n",
      "Sampling:  76% (6100/8000)\n",
      "Sampling:  78% (6200/8000)\n",
      "Sampling:  79% (6300/8000)\n",
      "Sampling:  80% (6400/8000)\n",
      "Sampling:  81% (6500/8000)\n",
      "Sampling:  82% (6600/8000)\n",
      "Sampling:  84% (6700/8000)\n",
      "Sampling:  85% (6800/8000)\n",
      "Sampling:  86% (6900/8000)\n",
      "Sampling:  88% (7000/8000)\n",
      "Sampling:  89% (7100/8000)\n",
      "Sampling:  90% (7200/8000)\n",
      "Sampling:  91% (7300/8000)\n",
      "Sampling:  92% (7400/8000)\n",
      "Sampling:  94% (7500/8000)\n",
      "Sampling:  95% (7600/8000)\n",
      "Sampling:  96% (7700/8000)\n",
      "Sampling:  98% (7800/8000)\n",
      "Sampling:  99% (7900/8000)\n",
      "Sampling: 100% (8000/8000)\n",
      "Sampling: 100% (8000/8000), done.\n",
      "Messages received during sampling:\n",
      "  Gradient evaluation took 0.004023 seconds\n",
      "  1000 transitions using 10 leapfrog steps per transition would take 40.23 seconds.\n",
      "  Adjust your expectations accordingly!\n",
      "  Gradient evaluation took 0.002465 seconds\n",
      "  1000 transitions using 10 leapfrog steps per transition would take 24.65 seconds.\n",
      "  Adjust your expectations accordingly!\n",
      "  Gradient evaluation took 0.002585 seconds\n",
      "  1000 transitions using 10 leapfrog steps per transition would take 25.85 seconds.\n",
      "  Adjust your expectations accordingly!\n",
      "  Gradient evaluation took 0.002668 seconds\n",
      "  1000 transitions using 10 leapfrog steps per transition would take 26.68 seconds.\n",
      "  Adjust your expectations accordingly!\n"
     ]
    }
   ],
   "source": [
    "fit = model.sample(num_chains=4, num_samples=1000)"
   ]
  },
  {
   "cell_type": "code",
   "execution_count": 61,
   "metadata": {},
   "outputs": [
    {
     "ename": "NameError",
     "evalue": "name 'az' is not defined",
     "output_type": "error",
     "traceback": [
      "\u001b[0;31m---------------------------------------------------------------------------\u001b[0m",
      "\u001b[0;31mNameError\u001b[0m                                 Traceback (most recent call last)",
      "\u001b[1;32m/Users/ethanratliff-crain/githubProjects/Bayesian-Multinomial-Regression-Kidney-Disease/model_notebook_1.ipynb Cell 14\u001b[0m line \u001b[0;36m1\n\u001b[0;32m----> <a href='vscode-notebook-cell:/Users/ethanratliff-crain/githubProjects/Bayesian-Multinomial-Regression-Kidney-Disease/model_notebook_1.ipynb#X16sZmlsZQ%3D%3D?line=0'>1</a>\u001b[0m fit_multiple_az \u001b[39m=\u001b[39m az\u001b[39m.\u001b[39mfrom_pystan(fit_multiple)\n\u001b[1;32m      <a href='vscode-notebook-cell:/Users/ethanratliff-crain/githubProjects/Bayesian-Multinomial-Regression-Kidney-Disease/model_notebook_1.ipynb#X16sZmlsZQ%3D%3D?line=1'>2</a>\u001b[0m az\u001b[39m.\u001b[39msummary(fit_multiple_az)\n",
      "\u001b[0;31mNameError\u001b[0m: name 'az' is not defined"
     ]
    }
   ],
   "source": [
    "fit_multiple_az = az.from_pystan(fit_multiple)\n",
    "az.summary(fit_multiple_az)"
   ]
  }
 ],
 "metadata": {
  "kernelspec": {
   "display_name": "Python 3",
   "language": "python",
   "name": "python3"
  },
  "language_info": {
   "codemirror_mode": {
    "name": "ipython",
    "version": 3
   },
   "file_extension": ".py",
   "mimetype": "text/x-python",
   "name": "python",
   "nbconvert_exporter": "python",
   "pygments_lexer": "ipython3",
   "version": "3.9.16"
  }
 },
 "nbformat": 4,
 "nbformat_minor": 2
}
