{
 "cells": [
  {
   "cell_type": "code",
   "execution_count": 2,
   "metadata": {},
   "outputs": [],
   "source": [
    "# import numerical functions, plotting functions and statistical functions\n",
    "import numpy as np\n",
    "# !pip install pip\n",
    "# !pip install --upgrade pip\n",
    "# !pip install scipy\n",
    "import scipy as sp\n",
    "import scipy.stats\n",
    "import pandas as pd\n",
    "\n",
    "# !pip install pystan\n",
    "import stan\n",
    "# !pip install nest_asyncio\n",
    "import nest_asyncio\n",
    "nest_asyncio.apply()\n",
    "\n",
    "import matplotlib.pyplot as plt\n",
    "import seaborn as sns\n",
    "sns.set_style('ticks')"
   ]
  },
  {
   "cell_type": "markdown",
   "metadata": {},
   "source": [
    "We develop a multinomial model where the health status (Normal or Diseased) associated with a sample $m$ is the dependent variable $Y_m\\in\\{0,1\\}$ and the independent variable $X^m$ is the gene expression of the sample. We will model a score $Z=\\beta\\cdot X$, which can be converted into a probability of $Y_m$ given $(X^m,\\beta)$. In our initial implementation, we model the $\\beta$ values as being drawn from a normal distribution. Our model is therefore:\n",
    "$$Y\\in\\{0, 1\\}$$\n",
    "$$Y^i\\sim\\text{Bernoulli}\\left(\\rho_i\\right)$$\n",
    "$$Z_i=\\sum_j x_j^iB_j$$\n",
    "$$P\\left(Y_i\\right)=\\text{logit}\\left(Z_i\\right)$$\n",
    "$$B_j\\sim N\\left(0,\\sigma\\right)$$\n",
    "$$\\sigma=1$$"
   ]
  },
  {
   "cell_type": "code",
   "execution_count": null,
   "metadata": {},
   "outputs": [],
   "source": []
  }
 ],
 "metadata": {
  "kernelspec": {
   "display_name": "Python 3",
   "language": "python",
   "name": "python3"
  },
  "language_info": {
   "codemirror_mode": {
    "name": "ipython",
    "version": 3
   },
   "file_extension": ".py",
   "mimetype": "text/x-python",
   "name": "python",
   "nbconvert_exporter": "python",
   "pygments_lexer": "ipython3",
   "version": "3.9.16"
  }
 },
 "nbformat": 4,
 "nbformat_minor": 2
}
