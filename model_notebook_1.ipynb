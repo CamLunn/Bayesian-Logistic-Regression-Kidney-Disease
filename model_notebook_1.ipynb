{
 "cells": [
  {
   "cell_type": "code",
   "execution_count": 2,
   "metadata": {},
   "outputs": [],
   "source": [
    "# import numerical functions, plotting functions and statistical functions\n",
    "import numpy as np\n",
    "# !pip install pip\n",
    "# !pip install --upgrade pip\n",
    "# !pip install scipy\n",
    "import scipy as sp\n",
    "import scipy.stats\n",
    "import pandas as pd\n",
    "\n",
    "# !pip install pystan\n",
    "import stan\n",
    "# !pip install nest_asyncio\n",
    "import nest_asyncio\n",
    "nest_asyncio.apply()\n",
    "\n",
    "# !pip install arviz\n",
    "import arviz\n",
    "\n",
    "import matplotlib.pyplot as plt\n",
    "import seaborn as sns\n",
    "sns.set_style('ticks')"
   ]
  },
  {
   "cell_type": "code",
   "execution_count": null,
   "metadata": {},
   "outputs": [],
   "source": [
    "# !pip uninstall numba\n",
    "# !pip install --upgrade numba"
   ]
  },
  {
   "cell_type": "code",
   "execution_count": null,
   "metadata": {},
   "outputs": [],
   "source": [
    "def diagnose(name):\n",
    "    if 'disease' in name:\n",
    "        return 1\n",
    "    else:\n",
    "        return 0"
   ]
  },
  {
   "cell_type": "code",
   "execution_count": null,
   "metadata": {},
   "outputs": [],
   "source": [
    "raw_df = pd.read_csv('./data/kidney_countdata.txt', sep='\\t', quotechar='\"')\n",
    "raw_df.rename(columns={'Unnamed: 0': 'gene'}, inplace=True)\n",
    "\n",
    "meta_df = pd.read_csv('./data/kidney_metadata.txt', sep='\\t', quotechar='\"')\n",
    "meta_df.rename(columns={'Unnamed: 0': 'ROI'}, inplace=True)\n",
    "meta_df['diagnosis'] = meta_df['slide name'].map(diagnose)"
   ]
  },
  {
   "cell_type": "code",
   "execution_count": null,
   "metadata": {},
   "outputs": [],
   "source": [
    "# df = raw_df.head(1000)\n",
    "df = raw_df\n",
    "threshold = 1\n",
    "column_list = [col for col in df.columns if col != 'gene' and sum(df[col]) >= threshold]\n",
    "print(len(column_list))"
   ]
  },
  {
   "cell_type": "code",
   "execution_count": null,
   "metadata": {},
   "outputs": [],
   "source": [
    "counts = [sum(df[col]) for col in df.columns[1:]]\n",
    "counts.sort()\n",
    "ccdf = 1.0 - np.arange(len(counts)) / len(counts)\n",
    "plt.plot(counts, ccdf)\n",
    "plt.xscale('log')\n",
    "plt.yscale('log')\n",
    "plt.show()\n",
    "plt.hist(counts, bins=100)\n",
    "# for col in df.columns[1:]:\n",
    "#     if sum(df[col]) < 10:\n",
    "#         print(col)\n",
    "#         print(sum(df[col]))"
   ]
  },
  {
   "cell_type": "markdown",
   "metadata": {},
   "source": [
    "We develop a multinomial model where the health status (Normal or Diseased) associated with a sample $m$ is the dependent variable $Y_m\\in\\{0,1\\}$ and the independent variable $X^m$ is the gene expression of the sample. We will model a score $Z=\\beta\\cdot X$, which can be converted into a probability of $Y_m$ given $(X^m,\\beta)$. In our initial implementation, we model the $\\beta$ values as being drawn from a normal distribution. Our model is therefore:\n",
    "$$Y\\in\\{0, 1\\}$$\n",
    "$$Y^i\\sim\\text{Bernoulli}\\left(\\rho_i\\right)$$\n",
    "$$Z_i=\\sum_j x_j^iB_j$$\n",
    "$$P\\left(Y_i\\right)=\\text{logit}\\left(Z_i\\right)$$\n",
    "$$B_j\\sim N\\left(0,\\sigma\\right)$$\n",
    "$$\\sigma=1$$"
   ]
  },
  {
   "cell_type": "code",
   "execution_count": null,
   "metadata": {},
   "outputs": [],
   "source": [
    "# Note: below is based on Week 9 colab: https://colab.research.google.com/drive/1itBoJq9kUBVrEAkWWnsWtMB9RSrx1tt4?usp=sharing#scrollTo=abZBuL6lH-BL\n",
    "model_code = \"\"\"\n",
    "data {\n",
    "    int N;         // number of samples\n",
    "    int q;         // number of predictors\n",
    "    real X[N, q];  // predictors\n",
    "    int<lower=0,upper=1> Y[N];     // response\n",
    "    }\n",
    "parameters {\n",
    "    real alpha;\n",
    "    vector[q] beta;\n",
    "}\n",
    "transformed parameters {\n",
    "    real z[N];\n",
    "    for (i in 1:N) {\n",
    "        z[i] = alpha;\n",
    "        for (j in 1:q)\n",
    "        {\n",
    "            z[i] += beta[j] * X[i, j];   // add the effect of every predictor on the mean\n",
    "        }\n",
    "    }\n",
    "}\n",
    "model {\n",
    "    alpha ~ normal(0, 1);\n",
    "    beta ~ normal(0, 1);\n",
    "    for (i in 1:N) {\n",
    "        Y[i] ~ bernoulli_logit(z[i]);\n",
    "    }\n",
    "}\n",
    "\"\"\""
   ]
  },
  {
   "cell_type": "code",
   "execution_count": null,
   "metadata": {},
   "outputs": [],
   "source": [
    "\n",
    "# # Option 1: normalize by sum of all counts for an ROI, multiplied by 1,000 to prevent underflow\n",
    "# X = np.array([df[col]*10/sum(df[col]) for col in column_list])\n",
    "# print(len(X))\n",
    "\n",
    "# Option 2: normalize using z-score method:\n",
    "X = [sp.stats.zscore(df[col]).tolist() for col in column_list]\n",
    "\n",
    "Y = []\n",
    "for col in column_list:\n",
    "    Y.append(int(meta_df[meta_df['ROI']==col]['diagnosis'].values[0]))\n",
    "\n",
    "# print(Y)\n",
    "print(len(Y))\n",
    "# print(X)\n",
    "print(len(X))\n",
    "print(len(X[0]))"
   ]
  },
  {
   "cell_type": "code",
   "execution_count": null,
   "metadata": {},
   "outputs": [],
   "source": [
    "import json\n",
    "data = {'N': len(X), 'q': len(df), 'X': X, 'Y': Y}\n",
    "\n",
    "with open(\"/Users/ethanratliff-crain/opt/anaconda3/envs/stan/bin/cmdstan/genes/model_norm/model_norm.data.json\", \"w\") as f:\n",
    "    json.dump(data, f)"
   ]
  },
  {
   "cell_type": "code",
   "execution_count": null,
   "metadata": {},
   "outputs": [],
   "source": [
    "model = stan.build(model_code, data={'N': len(X), 'q': len(df), 'X': X, 'Y': Y})"
   ]
  },
  {
   "cell_type": "code",
   "execution_count": null,
   "metadata": {},
   "outputs": [],
   "source": [
    "fit = model.sample(num_chains=4, num_samples=1000)"
   ]
  },
  {
   "cell_type": "code",
   "execution_count": null,
   "metadata": {},
   "outputs": [],
   "source": [
    "fit_az = arviz.from_pystan(fit)\n",
    "arviz.summary(fit_az)"
   ]
  },
  {
   "cell_type": "code",
   "execution_count": null,
   "metadata": {},
   "outputs": [],
   "source": [
    "t_out = pd.read_csv(\"/Users/ethanratliff-crain/opt/anaconda3/envs/stan/bin/cmdstan/output.csv\",\n",
    "                    comment='#')\n",
    "print(t_out.head())\n",
    "t_betas = [t_out[col][0] for col in t_out.columns if 'beta' in col]\n",
    "p_betas = [np.mean(x) for x in fit['beta']]\n",
    "sns.histplot(p_betas, label='sampled')\n",
    "sns.histplot(t_betas, label='optimized')\n"
   ]
  },
  {
   "cell_type": "code",
   "execution_count": null,
   "metadata": {},
   "outputs": [],
   "source": [
    "az.plot_trace(fit_simple_az, var_names=['alpha', 'beta', 'sigma']);\n",
    "plt.tight_layout()"
   ]
  },
  {
   "cell_type": "code",
   "execution_count": null,
   "metadata": {},
   "outputs": [],
   "source": [
    "# any diverging transitions?\n",
    "print(\"Number of diverging samples: {}\".format(fit['divergent__'].sum()))"
   ]
  },
  {
   "cell_type": "code",
   "execution_count": null,
   "metadata": {},
   "outputs": [],
   "source": [
    "print(len(fit['beta']))"
   ]
  },
  {
   "cell_type": "code",
   "execution_count": null,
   "metadata": {},
   "outputs": [],
   "source": [
    "# posterior of z\n",
    "plt.figure(figsize=(4, 4))\n",
    "sns.kdeplot(fit['beta'][:])\n",
    "plt.xlabel(r\"$\\beta$\")\n",
    "plt.ylabel(\"Posterior density\")\n",
    "sns.despine()\n",
    "plt.legend()"
   ]
  },
  {
   "cell_type": "code",
   "execution_count": null,
   "metadata": {},
   "outputs": [],
   "source": [
    "# viz_scatter()\n",
    "from sklearn.metrics import confusion_matrix\n",
    "import random\n",
    "\n",
    "correct_guesses = 0\n",
    "total_guesses = 0\n",
    "# add simulated data points\n",
    "for i in range(10):\n",
    "    idx = np.random.randint(0, 4000)\n",
    "    scaled = [fit['beta'][:, idx] * x[:] for x in X]\n",
    "    z = [fit['alpha'][0, idx] + sum(s) for s in scaled]\n",
    "    Y_tilde = np.exp(z) / (1 + np.exp(z))\n",
    "    plt.scatter(Y, Y_tilde, color='k', alpha=0.1, zorder=-10)\n",
    "#     r = [random.random() for _ in range(len(Y_tilde))]\n",
    "#     correct_guesses += len(r[r < Y_tilde])\n",
    "#     total_guesses += len(r)\n",
    "\n",
    "# print(correct_guesses / total_guesses)\n",
    "\n",
    "plt.ylabel(r'$\\tilde{Y}$')\n",
    "plt.xlabel(r'$Y$')\n",
    "# plt.xlim(0, 1)\n",
    "# plt.ylim(0, 1)\n",
    "# sns.despine()"
   ]
  },
  {
   "cell_type": "code",
   "execution_count": null,
   "metadata": {},
   "outputs": [],
   "source": []
  },
  {
   "cell_type": "code",
   "execution_count": null,
   "metadata": {},
   "outputs": [],
   "source": []
  },
  {
   "cell_type": "code",
   "execution_count": null,
   "metadata": {},
   "outputs": [],
   "source": []
  }
 ],
 "metadata": {
  "kernelspec": {
   "display_name": "Python 3",
   "language": "python",
   "name": "python3"
  },
  "language_info": {
   "codemirror_mode": {
    "name": "ipython",
    "version": 3
   },
   "file_extension": ".py",
   "mimetype": "text/x-python",
   "name": "python",
   "nbconvert_exporter": "python",
   "pygments_lexer": "ipython3",
   "version": "3.9.16"
  }
 },
 "nbformat": 4,
 "nbformat_minor": 2
}
