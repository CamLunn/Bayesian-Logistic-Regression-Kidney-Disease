{
 "cells": [
  {
   "cell_type": "code",
   "execution_count": null,
   "metadata": {},
   "outputs": [],
   "source": [
    "# import numerical functions, plotting functions and statistical functions\n",
    "import numpy as np\n",
    "# !pip install pip\n",
    "# !pip install --upgrade pip\n",
    "# !pip install scipy\n",
    "import scipy as sp\n",
    "import scipy.stats\n",
    "import pandas as pd\n",
    "\n",
    "# !pip install pystan\n",
    "import stan\n",
    "# !pip install nest_asyncio\n",
    "import nest_asyncio\n",
    "nest_asyncio.apply()\n",
    "\n",
    "# !pip install arviz\n",
    "import arviz\n",
    "\n",
    "import matplotlib.pyplot as plt\n",
    "import seaborn as sns\n",
    "sns.set_style('ticks')"
   ]
  },
  {
   "cell_type": "code",
   "execution_count": null,
   "metadata": {},
   "outputs": [],
   "source": [
    "# !pip uninstall numba\n",
    "# !pip install --upgrade numba"
   ]
  },
  {
   "cell_type": "code",
   "execution_count": null,
   "metadata": {},
   "outputs": [],
   "source": [
    "def diagnose(name):\n",
    "    if 'disease' in name:\n",
    "        return 1\n",
    "    else:\n",
    "        return 0"
   ]
  },
  {
   "cell_type": "code",
   "execution_count": null,
   "metadata": {},
   "outputs": [],
   "source": [
    "raw_df = pd.read_csv('./data/kidney_countdata.txt', sep='\\t', quotechar='\"')\n",
    "raw_df.rename(columns={'Unnamed: 0': 'gene'}, inplace=True)\n",
    "\n",
    "meta_df = pd.read_csv('./data/kidney_metadata.txt', sep='\\t', quotechar='\"')\n",
    "meta_df.rename(columns={'Unnamed: 0': 'ROI'}, inplace=True)\n",
    "meta_df['diagnosis'] = meta_df['slide name'].map(diagnose)"
   ]
  },
  {
   "cell_type": "code",
   "execution_count": null,
   "metadata": {},
   "outputs": [],
   "source": []
  },
  {
   "cell_type": "code",
   "execution_count": null,
   "metadata": {},
   "outputs": [],
   "source": [
    "print(meta_df['diagnosis'].value_counts())\n",
    "print(meta_df['slide name'].value_counts())\n",
    "sns.histplot([str(x) for x in meta_df['diagnosis'].values])\n",
    "plt.title('Histogram of Diagnosis')\n",
    "plt.show()\n",
    "\n",
    "sns.histplot(meta_df['slide name'])\n",
    "plt.title('Counts of ROIs from each individual')\n",
    "plt.show()"
   ]
  },
  {
   "cell_type": "code",
   "execution_count": null,
   "metadata": {},
   "outputs": [],
   "source": [
    "test_ROIs = meta_df[(meta_df['slide name'] == 'disease2B') | (meta_df['slide name'] == 'normal2B')]['ROI'].values\n",
    "\n",
    "# Option 2:\n",
    "# d_vals = meta_df[meta_df['diagnosis'] == 1]['ROI'].values\n",
    "# d_vals = np.random.permutation(d_vals)\n",
    "# d_vals = d_vals[:20]\n",
    "# n_vals = meta_df[meta_df['diagnosis'] == 0]['ROI'].values\n",
    "# n_vals = np.random.permutation(n_vals)\n",
    "# n_vals = n_vals[:20]\n",
    "# test_ROIs = np.concatenate((d_vals, n_vals))\n",
    "# print(meta_df.head())\n",
    "print(test_ROIs)"
   ]
  },
  {
   "cell_type": "markdown",
   "metadata": {},
   "source": [
    "We develop a multinomial model where the health status (Normal or Diseased) associated with a sample $m$ is the dependent variable $Y_m\\in\\{0,1\\}$ and the independent variable $X^m$ is the gene expression of the sample. We will model a score $Z=\\beta\\cdot X$, which can be converted into a probability of $Y_m$ given $(X^m,\\beta)$. In our initial implementation, we model the $\\beta$ values as being drawn from a normal distribution. Our model is therefore:\n",
    "$$Y\\in\\{0, 1\\}$$\n",
    "$$Y^i\\sim\\text{Bernoulli}\\left(\\rho_i\\right)$$\n",
    "$$Z_i=\\sum_j x_j^iB_j$$\n",
    "$$P\\left(Y_i\\right)=\\text{logit}\\left(Z_i\\right)$$\n",
    "$$B_j\\sim N\\left(0,\\sigma\\right)$$\n",
    "$$\\sigma=1$$"
   ]
  },
  {
   "cell_type": "code",
   "execution_count": null,
   "metadata": {},
   "outputs": [],
   "source": [
    "# Note: below is based on Week 9 colab: https://colab.research.google.com/drive/1itBoJq9kUBVrEAkWWnsWtMB9RSrx1tt4?usp=sharing#scrollTo=abZBuL6lH-BL\n",
    "model_code = \"\"\"\n",
    "data {\n",
    "    int N;         // number of samples\n",
    "    int q;         // number of predictors\n",
    "    real X[N, q];  // predictors\n",
    "    int<lower=0,upper=1> Y[N];     // response\n",
    "    }\n",
    "parameters {\n",
    "    real alpha;\n",
    "    vector[q] beta;\n",
    "}\n",
    "transformed parameters {\n",
    "    real z[N];\n",
    "    for (i in 1:N) {\n",
    "        z[i] = alpha;\n",
    "        for (j in 1:q)\n",
    "        {\n",
    "            z[i] += beta[j] * X[i, j];   // add the effect of every predictor on the mean\n",
    "        }\n",
    "    }\n",
    "}\n",
    "model {\n",
    "    alpha ~ normal(0, 1);\n",
    "    beta ~ normal(0, 1);\n",
    "    for (i in 1:N) {\n",
    "        Y[i] ~ bernoulli_logit(z[i]);\n",
    "    }\n",
    "}\n",
    "\"\"\""
   ]
  },
  {
   "cell_type": "code",
   "execution_count": null,
   "metadata": {},
   "outputs": [],
   "source": [
    "# Note: below is based on Week 9 colab: https://colab.research.google.com/drive/1itBoJq9kUBVrEAkWWnsWtMB9RSrx1tt4?usp=sharing#scrollTo=abZBuL6lH-BL\n",
    "model_laplace = \"\"\"\n",
    "data {\n",
    "    int N;         // number of samples\n",
    "    int q;         // number of predictors\n",
    "    real X[N, q];  // predictors\n",
    "    int<lower=0,upper=1> Y[N];     // response\n",
    "    }\n",
    "parameters {\n",
    "    real alpha;\n",
    "    vector[q] beta;\n",
    "}\n",
    "transformed parameters {\n",
    "    real z[N];\n",
    "    for (i in 1:N) {\n",
    "        z[i] = alpha;\n",
    "        for (j in 1:q)\n",
    "        {\n",
    "            z[i] += beta[j] * X[i, j];   // add the effect of every predictor on the mean\n",
    "        }\n",
    "    }\n",
    "}\n",
    "model {\n",
    "    alpha ~ double_exponential(0, 1);\n",
    "    beta ~ double_exponential(0, 1);\n",
    "    for (i in 1:N) {\n",
    "        Y[i] ~ bernoulli_logit(z[i]);\n",
    "    }\n",
    "}\n",
    "\"\"\""
   ]
  },
  {
   "cell_type": "code",
   "execution_count": null,
   "metadata": {},
   "outputs": [],
   "source": []
  },
  {
   "cell_type": "code",
   "execution_count": 183,
   "metadata": {},
   "outputs": [
    {
     "name": "stdout",
     "output_type": "stream",
     "text": [
      "204\n",
      "204\n",
      "204\n",
      "18642\n"
     ]
    }
   ],
   "source": [
    "# df = raw_df.head(10)\n",
    "df = raw_df\n",
    "threshold = 1\n",
    "column_list = [col for col in df.columns if col != 'gene' and sum(df[col]) > 0 and col not in test_ROIs]\n",
    "test_column_list = [col for col in df.columns if col != 'gene' and sum(df[col]) > 0 and col in test_ROIs]\n",
    "print(len(column_list))\n",
    "\n",
    "# # Option 1: normalize by sum of all counts for an ROI, multiplied by 1,000 to prevent underflow\n",
    "# X = [(df[col]*1000/sum(df[col])).tolist() for col in column_list]\n",
    "# test_X = [(df[col]*1000/sum(df[col])).tolist() for col in test_column_list]\n",
    "# print(len(X))\n",
    "\n",
    "# Option 2: normalize using z-score method:\n",
    "X = [sp.stats.zscore(df[col]).tolist() for col in column_list]\n",
    "test_X = [sp.stats.zscore(df[col]).tolist() for col in test_column_list]\n",
    "\n",
    "# # Option 3: normalize using min-max method:\n",
    "# X = [((df[col]-min(df[col]))/(max(df[col])-min(df[col]))).tolist() for col in column_list]\n",
    "# test_X = [((df[col]-min(df[col]))/(max(df[col])-min(df[col]))).tolist() for col in test_column_list]\n",
    "\n",
    "# # Option 4: normalize using quantil method:\n",
    "# import numpy as np\n",
    "# from scipy.stats.mstats import mquantiles\n",
    "\n",
    "# def normalize(data, norm_method=\"quant\", desired_quantile=0.75):\n",
    "#     if norm_method == \"quant\":\n",
    "#         quantiles = mquantiles(data, prob=[desired_quantile])\n",
    "\n",
    "#         normalized_data = np.interp(data, quantiles, [0, 1])\n",
    "#         return normalized_data\n",
    "#     else:\n",
    "#         raise ValueError(\"Unsupported normalization method\")\n",
    "\n",
    "# X = [normalize(df[col]).tolist() for col in column_list]\n",
    "# test_X = [normalize(df[col]).tolist() for col in test_column_list]\n",
    "\n",
    "Y = []\n",
    "for col in column_list:\n",
    "    Y.append(int(meta_df[meta_df['ROI']==col]['diagnosis'].values[0]))\n",
    "\n",
    "test_Y = []\n",
    "for col in test_column_list:\n",
    "    test_Y.append(int(meta_df[meta_df['ROI']==col]['diagnosis'].values[0]))\n",
    "\n",
    "# print(Y)\n",
    "print(len(Y))\n",
    "\n",
    "# print(X)\n",
    "print(len(X))\n",
    "print(len(X[0]))"
   ]
  },
  {
   "cell_type": "code",
   "execution_count": 184,
   "metadata": {},
   "outputs": [],
   "source": [
    "import json\n",
    "data = {'N': len(X), 'q': len(df), 'X': X, 'Y': Y}\n",
    "\n",
    "with open(\"/Users/ethanratliff-crain/opt/anaconda3/envs/stan/bin/cmdstan/genes/model_norm/model_norm.data.json\", \"w\") as f:\n",
    "    json.dump(data, f)"
   ]
  },
  {
   "cell_type": "code",
   "execution_count": null,
   "metadata": {},
   "outputs": [],
   "source": [
    "model = stan.build(model_laplace, data={'N': len(X), 'q': len(df), 'X': X, 'Y': Y})"
   ]
  },
  {
   "cell_type": "code",
   "execution_count": null,
   "metadata": {},
   "outputs": [],
   "source": [
    "fit = model.sample(num_chains=4, num_samples=1000)"
   ]
  },
  {
   "cell_type": "code",
   "execution_count": null,
   "metadata": {},
   "outputs": [],
   "source": [
    "fit_az = arviz.from_pystan(fit)\n",
    "arviz.summary(fit_az)"
   ]
  },
  {
   "cell_type": "code",
   "execution_count": 185,
   "metadata": {},
   "outputs": [
    {
     "name": "stdout",
     "output_type": "stream",
     "text": [
      "      lp__         alpha    beta.1        beta.2        beta.3        beta.4  \\\n",
      "0 -7.00542 -3.572360e-08 -0.024306  1.534780e-11  8.239680e-09 -3.627200e-12   \n",
      "\n",
      "         beta.5        beta.6        beta.7        beta.8  ...    z.195  \\\n",
      "0 -9.928970e-09 -2.264130e-11 -3.671840e-13 -3.286450e-11  ...  10.9275   \n",
      "\n",
      "     z.196    z.197    z.198    z.199    z.200    z.201   z.202    z.203  \\\n",
      "0  7.29737  10.0059  5.19541  8.76131  9.23094  4.42867  3.4662  8.77926   \n",
      "\n",
      "     z.204  \n",
      "0  8.28779  \n",
      "\n",
      "[1 rows x 18848 columns]\n",
      "1\n",
      "0.115995\n"
     ]
    }
   ],
   "source": [
    "t_out = pd.read_csv(\"/Users/ethanratliff-crain/opt/anaconda3/envs/stan/bin/cmdstan/output.csv\",\n",
    "                    comment='#')\n",
    "print(t_out.head())\n",
    "print(len(t_out))\n",
    "t_betas = [t_out[col][0] for col in t_out.columns if 'beta' in col]\n",
    "print(max(t_betas))\n",
    "abs_betas = np.abs(t_betas)\n",
    "np_betas = np.array(t_betas)\n",
    "genes_to_use = df[abs_betas > 0.01]['gene']\n",
    "t_betas_to_use = np_betas[abs_betas > 0.01]\n"
   ]
  },
  {
   "cell_type": "code",
   "execution_count": null,
   "metadata": {},
   "outputs": [],
   "source": [
    "# p_betas = [np.mean(x) for x in fit['beta']]\n",
    "# sns.histplot(p_betas, label='sampled')\n",
    "sns.histplot(t_betas, label='optimized')\n",
    "plt.show()\n",
    "\n",
    "sns.histplot(np.abs(t_betas), label='optimized')"
   ]
  },
  {
   "cell_type": "code",
   "execution_count": null,
   "metadata": {},
   "outputs": [],
   "source": [
    "az.plot_trace(fit_simple_az, var_names=['alpha', 'beta', 'sigma']);\n",
    "plt.tight_layout()"
   ]
  },
  {
   "cell_type": "code",
   "execution_count": null,
   "metadata": {},
   "outputs": [],
   "source": [
    "# any diverging transitions?\n",
    "print(\"Number of diverging samples: {}\".format(fit['divergent__'].sum()))"
   ]
  },
  {
   "cell_type": "code",
   "execution_count": null,
   "metadata": {},
   "outputs": [],
   "source": [
    "print(len(fit['beta']))"
   ]
  },
  {
   "cell_type": "code",
   "execution_count": null,
   "metadata": {},
   "outputs": [],
   "source": [
    "# posterior of z\n",
    "plt.figure(figsize=(4, 4))\n",
    "sns.kdeplot(fit['beta'][:])\n",
    "plt.xlabel(r\"$\\beta$\")\n",
    "plt.ylabel(\"Posterior density\")\n",
    "sns.despine()\n",
    "plt.legend()"
   ]
  },
  {
   "cell_type": "code",
   "execution_count": null,
   "metadata": {},
   "outputs": [],
   "source": [
    "# viz_scatter()\n",
    "from sklearn.metrics import confusion_matrix\n",
    "import random\n",
    "\n",
    "correct_guesses = 0\n",
    "total_guesses = 0\n",
    "# add simulated data points\n",
    "for i in range(10):\n",
    "    idx = np.random.randint(0, 4000)\n",
    "    scaled = [fit['beta'][:, idx] * x[:] for x in X]\n",
    "    z = [fit['alpha'][0, idx] + sum(s) for s in scaled]\n",
    "    Y_tilde = np.exp(z) / (1 + np.exp(z))\n",
    "    plt.scatter(Y, Y_tilde, color='k', alpha=0.1, zorder=-10)\n",
    "#     r = [random.random() for _ in range(len(Y_tilde))]\n",
    "#     correct_guesses += len(r[r < Y_tilde])\n",
    "#     total_guesses += len(r)\n",
    "\n",
    "# print(correct_guesses / total_guesses)\n",
    "\n",
    "plt.ylabel(r'$\\tilde{Y}$')\n",
    "plt.xlabel(r'$Y$')\n",
    "# plt.xlim(0, 1)\n",
    "# plt.ylim(0, 1)\n",
    "# sns.despine()"
   ]
  },
  {
   "cell_type": "code",
   "execution_count": 186,
   "metadata": {},
   "outputs": [
    {
     "data": {
      "image/png": "[encoded data removed]",
      "text/plain": [
       "<Figure size 640x480 with 1 Axes>"
      ]
     },
     "metadata": {},
     "output_type": "display_data"
    }
   ],
   "source": [
    "correct_guesses = 0\n",
    "total_guesses = 0\n",
    "# add simulated data points\n",
    "\n",
    "scaled = [np.array(t_betas) * x[:] for x in X]\n",
    "z = [t_out['alpha'][0] + sum(s) for s in scaled]\n",
    "Y_tilde = np.exp(z) / (1 + np.exp(z))\n",
    "plt.scatter(Y, Y_tilde, color='k', alpha=0.1, zorder=-10)\n",
    "plt.ylabel(r'$\\tilde{Y}$')\n",
    "plt.xlabel(r'$Y$')\n",
    "# plt.yscale('log')\n",
    "plt.title('Predictions on Training Data')\n",
    "\n",
    "plt.show()"
   ]
  },
  {
   "cell_type": "code",
   "execution_count": 187,
   "metadata": {},
   "outputs": [
    {
     "data": {
      "image/png": "[encoded data removed]",
      "text/plain": [
       "<Figure size 640x480 with 1 Axes>"
      ]
     },
     "metadata": {},
     "output_type": "display_data"
    },
    {
     "data": {
      "image/png": "[encoded data removed]",
      "text/plain": [
       "<Figure size 640x480 with 1 Axes>"
      ]
     },
     "metadata": {},
     "output_type": "display_data"
    },
    {
     "name": "stdout",
     "output_type": "stream",
     "text": [
      "                            ROI  Y      P(Y)  accuracy  samples\n",
      "0   DSP-1001250007868-B-A12.dcc  1  0.823429         1        1\n",
      "1   DSP-1001250007868-B-B01.dcc  1  0.989203         1        1\n",
      "2   DSP-1001250007868-B-B02.dcc  1  0.613211         1        1\n",
      "3   DSP-1001250007868-B-B03.dcc  1  0.853229         1        1\n",
      "4   DSP-1001250007868-B-B04.dcc  1  0.977738         1        1\n",
      "..                          ... ..       ...       ...      ...\n",
      "67  DSP-1002510007866-C-F03.dcc  0  0.291177         1        1\n",
      "68  DSP-1002510007866-C-F04.dcc  0  0.315383         1        1\n",
      "69  DSP-1002510007866-C-F05.dcc  0  0.491475         1        1\n",
      "70  DSP-1002510007866-C-F06.dcc  0  0.974556         0        1\n",
      "71  DSP-1002510007866-C-F07.dcc  0  0.211396         1        1\n",
      "\n",
      "[72 rows x 5 columns]\n",
      "        P(Y)  accuracy  samples\n",
      "Y                              \n",
      "0  19.570540        17       35\n",
      "1  33.570994        37       37\n"
     ]
    },
    {
     "data": {
      "image/png": "[encoded data removed]",
      "text/plain": [
       "<Figure size 640x480 with 1 Axes>"
      ]
     },
     "metadata": {},
     "output_type": "display_data"
    }
   ],
   "source": [
    "correct_guesses = 0\n",
    "total_guesses = 0\n",
    "# add simulated data points\n",
    "sns.scatterplot(x=[i for i in range(len(t_betas))], y=t_betas)\n",
    "plt.show()\n",
    "\n",
    "scaled = [np.array(t_betas) * x[:] for x in test_X]\n",
    "z = [t_out['alpha'][0] + sum(s) for s in scaled]\n",
    "Y_tilde = np.exp(z) / (1 + np.exp(z))\n",
    "plt.scatter(test_Y, Y_tilde, color='k', alpha=0.1, zorder=-10)\n",
    "plt.ylabel(r'$\\tilde{Y}$')\n",
    "plt.xlabel(r'$Y$')\n",
    "# plt.yscale('log')\n",
    "plt.title('Predictions on Test Data')\n",
    "plt.show()\n",
    "\n",
    "z.sort()\n",
    "plt.scatter(z, np.exp(z) / (1 + np.exp(z)))\n",
    "plt.xlabel('z')\n",
    "plt.ylabel(r'$\\tilde{Y}$')\n",
    "\n",
    "accuracy = []\n",
    "for i in range(len(Y_tilde)):\n",
    "    if Y_tilde[i] > 0.5:\n",
    "        accuracy.append(1 if test_Y[i] == 1 else 0)\n",
    "    else:\n",
    "        accuracy.append(1 if test_Y[i] == 0 else 0)\n",
    "summary_table = pd.DataFrame({'ROI': test_column_list, 'Y': test_Y, 'P(Y)': Y_tilde, 'accuracy': accuracy, 'samples': 1})\n",
    "print(summary_table)\n",
    "s_g = summary_table.groupby('Y').sum()\n",
    "print(s_g)"
   ]
  },
  {
   "cell_type": "code",
   "execution_count": null,
   "metadata": {},
   "outputs": [],
   "source": [
    "X_to_use = np.array(X)\n",
    "X_to_use = [x[abs_betas > 0.01] for x in X_to_use]\n",
    "test_X_to_use = np.array(test_X)\n",
    "test_X_to_use = [x[abs_betas > 0.01] for x in test_X_to_use]\n",
    "scaled = [np.array(t_betas_to_use) * x[:] for x in X_to_use]\n",
    "z = [t_out['alpha'][0] + sum(s) for s in scaled]\n",
    "Y_tilde = np.exp(z) / (1 + np.exp(z))\n",
    "plt.scatter(Y, Y_tilde, color='k', alpha=0.1, zorder=-10)\n",
    "plt.ylabel(r'$\\tilde{Y}$')\n",
    "plt.xlabel(r'$Y$')\n",
    "# plt.yscale('log')\n",
    "plt.title('Predictions on Training Data')\n",
    "\n",
    "print(Y)\n",
    "print(Y_tilde)\n",
    "plt.show()"
   ]
  },
  {
   "cell_type": "markdown",
   "metadata": {},
   "source": [
    "From https://www.cs.bham.ac.uk/~axk/laplace.pdf,\n",
    "$$_t=\\frac{\\sum_n(y_n-\\sum_{t'\\neq t}w_{t'}x_{t'n})x_{tn}}{\\sum_n x^2_{tn}}$$\n"
   ]
  },
  {
   "cell_type": "code",
   "execution_count": null,
   "metadata": {},
   "outputs": [],
   "source": [
    "def "
   ]
  },
  {
   "cell_type": "code",
   "execution_count": null,
   "metadata": {},
   "outputs": [],
   "source": [
    "print(len(test_X))\n",
    "test_X_to_use = np.array(test_X)\n",
    "test_X_to_use = [x[abs_betas > 0.01] for x in test_X_to_use]\n",
    "scaled = [np.array(t_betas_to_use) * x[:] for x in test_X_to_use]\n",
    "z = [t_out['alpha'][0] + sum(s) for s in scaled]\n",
    "Y_tilde = np.exp(z) / (1 + np.exp(z))\n",
    "plt.scatter(test_Y, Y_tilde, color='k', alpha=0.1, zorder=-10)\n",
    "plt.ylabel(r'$\\tilde{Y}$')\n",
    "plt.xlabel(r'$Y$')\n",
    "# plt.yscale('log')\n",
    "plt.title('Predictions on Training Data')\n",
    "\n",
    "print(Y)\n",
    "print(Y_tilde)\n",
    "plt.show()"
   ]
  },
  {
   "cell_type": "code",
   "execution_count": null,
   "metadata": {},
   "outputs": [],
   "source": []
  },
  {
   "cell_type": "code",
   "execution_count": null,
   "metadata": {},
   "outputs": [],
   "source": []
  },
  {
   "cell_type": "code",
   "execution_count": null,
   "metadata": {},
   "outputs": [],
   "source": []
  },
  {
   "cell_type": "code",
   "execution_count": null,
   "metadata": {},
   "outputs": [],
   "source": []
  }
 ],
 "metadata": {
  "kernelspec": {
   "display_name": "Python 3",
   "language": "python",
   "name": "python3"
  },
  "language_info": {
   "codemirror_mode": {
    "name": "ipython",
    "version": 3
   },
   "file_extension": ".py",
   "mimetype": "text/x-python",
   "name": "python",
   "nbconvert_exporter": "python",
   "pygments_lexer": "ipython3",
   "version": "3.9.16"
  }
 },
 "nbformat": 4,
 "nbformat_minor": 2
}
