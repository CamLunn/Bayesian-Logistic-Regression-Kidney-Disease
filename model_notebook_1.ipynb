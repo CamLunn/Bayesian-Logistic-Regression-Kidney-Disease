{
 "cells": [
  {
   "cell_type": "code",
   "execution_count": null,
   "metadata": {},
   "outputs": [],
   "source": [
    "# import numerical functions, plotting functions and statistical functions\n",
    "import numpy as np\n",
    "# !pip install pip\n",
    "# !pip install --upgrade pip\n",
    "# !pip install scipy\n",
    "import scipy as sp\n",
    "import scipy.stats\n",
    "import pandas as pd\n",
    "import json\n",
    "from sklearn.preprocessing import RobustScaler\n",
    "\n",
    "# !pip install pystan\n",
    "import stan\n",
    "# !pip install nest_asyncio\n",
    "import nest_asyncio\n",
    "nest_asyncio.apply()\n",
    "\n",
    "# !pip install arviz\n",
    "import arviz\n",
    "\n",
    "import matplotlib.pyplot as plt\n",
    "import seaborn as sns\n",
    "sns.set_style('ticks')"
   ]
  },
  {
   "cell_type": "code",
   "execution_count": null,
   "metadata": {},
   "outputs": [],
   "source": [
    "# !pip uninstall numba\n",
    "# !pip install --upgrade numba"
   ]
  },
  {
   "cell_type": "code",
   "execution_count": 87,
   "metadata": {},
   "outputs": [],
   "source": [
    "def diagnose(name):\n",
    "    if 'disease' in name:\n",
    "        return 1\n",
    "    else:\n",
    "        return 0\n",
    "\n",
    "def region_id(segment_region):\n",
    "    if \"glomerulus\" in segment_region:\n",
    "        return 1\n",
    "    elif \"tubule\" in segment_region:\n",
    "        return 2\n",
    "    else:\n",
    "        return -1\n",
    "    # elif segment_region == \"neg tubule\":\n",
    "    #     return 3\n",
    "    # else:\n",
    "    #     return -1"
   ]
  },
  {
   "cell_type": "code",
   "execution_count": 114,
   "metadata": {},
   "outputs": [
    {
     "name": "stdout",
     "output_type": "stream",
     "text": [
      "                     ROI  construct  read_pattern  expected_neg  slide name  \\\n",
      "region_id diagnosis                                                           \n",
      "1         0           81         81            81            81          81   \n",
      "          1          109        109           109           109         109   \n",
      "2         0           36         36            36            36          36   \n",
      "          1           50         50            50            50          50   \n",
      "\n",
      "                     class  segment  area  region  pathology  nuclei  \\\n",
      "region_id diagnosis                                                    \n",
      "1         0             81       81    81      81         68      81   \n",
      "          1            109      109   109     109         83     109   \n",
      "2         0             36       36    36      36          0      36   \n",
      "          1             50       50    50      50          0      50   \n",
      "\n",
      "                     segment_region  \n",
      "region_id diagnosis                  \n",
      "1         0                      81  \n",
      "          1                     109  \n",
      "2         0                      36  \n",
      "          1                      50  \n"
     ]
    }
   ],
   "source": [
    "raw_df = pd.read_csv('./data/kidney_countdata.txt', sep='\\t', quotechar='\"')\n",
    "raw_df.rename(columns={'Unnamed: 0': 'gene'}, inplace=True)\n",
    "\n",
    "meta_df = pd.read_csv('./data/kidney_metadata.txt', sep='\\t', quotechar='\"')\n",
    "meta_df.rename(columns={'Unnamed: 0': 'ROI'}, inplace=True)\n",
    "meta_df['diagnosis'] = meta_df['slide name'].map(diagnose)\n",
    "meta_df['segment_region'] = meta_df['segment'] + ' ' + meta_df['region']\n",
    "meta_df['region_id'] = meta_df['segment_region'].map(region_id)\n",
    "print(meta_df.groupby(['region_id', 'diagnosis']).count())\n"
   ]
  },
  {
   "cell_type": "markdown",
   "metadata": {},
   "source": [
    "### Data Summary\n"
   ]
  },
  {
   "cell_type": "code",
   "execution_count": null,
   "metadata": {},
   "outputs": [],
   "source": [
    "print(f\"Number of genes: {raw_df.shape[0]}\")\n",
    "print(f\"Number of ROIs: {len(meta_df['ROI'].unique())}\")\n",
    "print(\"Diagnosis counts:\")\n",
    "print(meta_df['diagnosis'].value_counts())\n",
    "print(f\"ROIs per individual\")\n",
    "print(meta_df['slide name'].value_counts())"
   ]
  },
  {
   "cell_type": "code",
   "execution_count": null,
   "metadata": {},
   "outputs": [],
   "source": [
    "\n",
    "sns.histplot([str(x) for x in meta_df['diagnosis'].values])\n",
    "plt.title('Histogram of Diagnosis')\n",
    "plt.show()\n",
    "\n",
    "sns.histplot(meta_df['slide name'])\n",
    "plt.title('Counts of ROIs from each individual')\n",
    "plt.show()"
   ]
  },
  {
   "cell_type": "code",
   "execution_count": null,
   "metadata": {},
   "outputs": [],
   "source": [
    "means = raw_df.mean(axis=0)\n",
    "sns.histplot(means)\n",
    "plt.title('Histogram of mean expression across ROIs')\n",
    "plt.xlabel('Mean expression')\n",
    "plt.show()\n",
    "\n",
    "stds = raw_df.std(axis=0)\n",
    "sns.histplot(stds)\n",
    "plt.title('Histogram of standard deviation of expression across ROIs')\n",
    "plt.xlabel('Standard deviation of expression')\n",
    "plt.show()"
   ]
  },
  {
   "cell_type": "code",
   "execution_count": 89,
   "metadata": {},
   "outputs": [],
   "source": [
    "def prepare_and_save_data(test_individuals=['disease2B', 'normal4'], normalization='z-score', region=False):\n",
    "    # Option 0: Remove test subjects from the data\n",
    "    if len(test_individuals) > 0:\n",
    "        test_ROIs = meta_df[meta_df['slide name'].isin(test_individuals)]['ROI'].values\n",
    "        suffix = '_indv'\n",
    "    # Option 2: randomly sample 20 ROIs from each class to be the test set\n",
    "    else:\n",
    "        d_vals = meta_df[meta_df['diagnosis'] == 1]['ROI'].values\n",
    "        d_vals = np.random.permutation(d_vals)\n",
    "        d_vals = d_vals[:20]\n",
    "        n_vals = meta_df[meta_df['diagnosis'] == 0]['ROI'].values\n",
    "        n_vals = np.random.permutation(n_vals)\n",
    "        n_vals = n_vals[:20]\n",
    "        test_ROIs = np.concatenate((d_vals, n_vals))\n",
    "        suffix = '_random_20'\n",
    "    \n",
    "    df = raw_df\n",
    "    column_list = [col for col in df.columns if col != 'gene' and sum(df[col]) > 0 and col not in test_ROIs]\n",
    "    test_column_list = [col for col in df.columns if col != 'gene' and sum(df[col]) > 0 and col in test_ROIs]\n",
    "\n",
    "    # # Option 1: normalize by sum of all counts for an ROI, multiplied by 1,000 to prevent underflow\n",
    "    if normalization == 'sum':\n",
    "        X = [(df[col]*1000/sum(df[col])).tolist() for col in column_list]\n",
    "        test_X = [(df[col]*1000/sum(df[col])).tolist() for col in test_column_list]\n",
    "    # Option 2: normalize using z-score method:\n",
    "    elif normalization == 'z-score':\n",
    "        X = [sp.stats.zscore(df[col]).tolist() for col in column_list]\n",
    "        test_X = [sp.stats.zscore(df[col]).tolist() for col in test_column_list]\n",
    "    # # Option 3: normalize using min-max method:\n",
    "    elif normalization == 'min-max':\n",
    "        X = [((df[col]-min(df[col]))/(max(df[col])-min(df[col]))).tolist() for col in column_list]\n",
    "        test_X = [((df[col]-min(df[col]))/(max(df[col])-min(df[col]))).tolist() for col in test_column_list]\n",
    "    # # Option 4: normalize using quantile method:\n",
    "    elif normalization == 'quantile':\n",
    "        X = []\n",
    "        test_X = []\n",
    "        for col in column_list:\n",
    "            rs = RobustScaler()\n",
    "            scaled = rs.fit_transform(df[col].values.reshape(-1, 1))\n",
    "            X.append(scaled.tolist())\n",
    "\n",
    "        for col in test_column_list:\n",
    "            rs = RobustScaler()\n",
    "            scaled = rs.fit_transform(df[col].values.reshape(-1, 1))\n",
    "            test_X.append(scaled.tolist())\n",
    "    else:\n",
    "        raise ValueError('Invalid normalization method')\n",
    "\n",
    "    Y = []\n",
    "    for col in column_list:\n",
    "        Y.append(int(meta_df[meta_df['ROI']==col]['diagnosis'].values[0]))\n",
    "\n",
    "    test_Y = []\n",
    "    for col in test_column_list:\n",
    "        test_Y.append(int(meta_df[meta_df['ROI']==col]['diagnosis'].values[0]))\n",
    "\n",
    "\n",
    "    ROI_df = pd.DataFrame(column_list, columns=['ROI'])\n",
    "    joined = ROI_df.merge(meta_df, on='ROI', how='left')\n",
    "    p = len(joined['region_id'].unique())\n",
    "\n",
    "    test_ROI_df = pd.DataFrame(test_column_list, columns=['ROI'])\n",
    "    test_regions= test_ROI_df.merge(meta_df, on='ROI', how='left')['region_id'].values.tolist()\n",
    "\n",
    "    if region:\n",
    "        reg_suffix = '_reg'\n",
    "        data = {'N': len(X), 'q': len(df), 'p': p, 'X': X, 'Y': Y, 'region': joined['region_id'].values.tolist()}\n",
    "    else:\n",
    "        reg_suffix = ''\n",
    "        data = {'N': len(X), 'q': len(df), 'X': X, 'Y': Y}\n",
    "\n",
    "    with open(f\"/Users/ethanratliff-crain/opt/anaconda3/envs/stan/bin/cmdstan/genes/model_norm/model{reg_suffix}{suffix}.data.json\", \"w\") as f:\n",
    "        json.dump(data, f)\n",
    "    \n",
    "    return data, test_X, test_Y, test_regions\n"
   ]
  },
  {
   "cell_type": "code",
   "execution_count": 90,
   "metadata": {},
   "outputs": [],
   "source": [
    "region_setting = True\n",
    "data_indv, test_X_indv, test_Y_indv, test_region_indv = prepare_and_save_data(test_individuals=['disease2B', 'normal2B'], normalization='z-score', region=region_setting)\n",
    "data_rand, test_X_rand, test_Y_rand, test_region_rand = prepare_and_save_data(test_individuals=[], normalization='z-score', region=region_setting)"
   ]
  },
  {
   "cell_type": "code",
   "execution_count": 92,
   "metadata": {},
   "outputs": [
    {
     "name": "stdout",
     "output_type": "stream",
     "text": [
      "1\n"
     ]
    }
   ],
   "source": [
    "print(min(data_indv['region']))"
   ]
  },
  {
   "cell_type": "code",
   "execution_count": 124,
   "metadata": {},
   "outputs": [
    {
     "name": "stdout",
     "output_type": "stream",
     "text": [
      "204\n",
      "204\n"
     ]
    },
    {
     "data": {
      "image/png": "[encoded data removed]",
      "text/plain": [
       "<Figure size 640x480 with 1 Axes>"
      ]
     },
     "metadata": {},
     "output_type": "display_data"
    },
    {
     "data": {
      "image/png": "[encoded data removed]",
      "text/plain": [
       "<Figure size 640x480 with 1 Axes>"
      ]
     },
     "metadata": {},
     "output_type": "display_data"
    },
    {
     "name": "stdout",
     "output_type": "stream",
     "text": [
      "        P(Y)  accuracy  samples\n",
      "Y                              \n",
      "0  19.570540        17       35\n",
      "1  33.570994        37       37\n",
      "236\n",
      "236\n"
     ]
    },
    {
     "data": {
      "image/png": "[encoded data removed]",
      "text/plain": [
       "<Figure size 640x480 with 1 Axes>"
      ]
     },
     "metadata": {},
     "output_type": "display_data"
    },
    {
     "data": {
      "image/png": "[encoded data removed]",
      "text/plain": [
       "<Figure size 640x480 with 1 Axes>"
      ]
     },
     "metadata": {},
     "output_type": "display_data"
    },
    {
     "name": "stdout",
     "output_type": "stream",
     "text": [
      "        P(Y)  accuracy  samples\n",
      "Y                              \n",
      "0   0.420975        20       20\n",
      "1  19.861753        20       20\n"
     ]
    }
   ],
   "source": [
    "def visualize_results(data, test_X, test_Y, suffix='_indv', plot_suffix=''):\n",
    "    t_out = pd.read_csv(f\"/Users/ethanratliff-crain/opt/anaconda3/envs/stan/bin/cmdstan/output{suffix}.csv\",\n",
    "                        comment='#')\n",
    "    t_betas = [t_out[col][0] for col in t_out.columns if 'beta' in col]\n",
    "\n",
    "    scaled = [np.array(t_betas) * x[:] for x in data['X']]\n",
    "    # z = [t_out['alpha'][0] + sum(s) for s in scaled]\n",
    "    z = [sum(s) for s in scaled]\n",
    "    Y_tilde = np.exp(z) / (1 + np.exp(z))\n",
    "    print(len(data['Y']))\n",
    "    print(len(Y_tilde))\n",
    "    plt.scatter(data['Y'], Y_tilde, color='k', alpha=0.1, zorder=-10)\n",
    "    plt.ylabel(r'$P(Y)$')\n",
    "    plt.xlabel(r'$Y$')\n",
    "    plt.title(f\"Predictions on Training Data{plot_suffix}\")\n",
    "    plt.show()\n",
    "\n",
    "    scaled = [np.array(t_betas) * x[:] for x in test_X]\n",
    "    # z = [t_out['alpha'][0] + sum(s) for s in scaled]\n",
    "    z = [sum(s) for s in scaled]\n",
    "    Y_tilde = np.exp(z) / (1 + np.exp(z))\n",
    "    plt.scatter(test_Y, Y_tilde, color='k', alpha=0.1, zorder=-10)\n",
    "    plt.ylabel(r'$P(Y)$')\n",
    "    plt.xlabel(r'$Y$')\n",
    "    # plt.yscale('log')\n",
    "    plt.title(f\"Predictions on Test Data{plot_suffix}\")\n",
    "    plt.show()\n",
    "\n",
    "    accuracy = []\n",
    "    for i in range(len(Y_tilde)):\n",
    "        if Y_tilde[i] > 0.5:\n",
    "            accuracy.append(1 if test_Y[i] == 1 else 0)\n",
    "        else:\n",
    "            accuracy.append(1 if test_Y[i] == 0 else 0)\n",
    "    summary_table = pd.DataFrame({'Y': test_Y, 'P(Y)': Y_tilde, 'accuracy': accuracy, 'samples': 1})\n",
    "    s_g = summary_table.groupby('Y').sum()\n",
    "    print(s_g)\n",
    "\n",
    "visualize_results(data_indv, test_X_indv, test_Y_indv, suffix='_indv', plot_suffix=' - Individual')\n",
    "visualize_results(data_rand, test_X_rand, test_Y_rand, suffix='_random_20', plot_suffix=' - Random')"
   ]
  },
  {
   "cell_type": "code",
   "execution_count": null,
   "metadata": {},
   "outputs": [],
   "source": [
    "def visualize_betas(suffix='_indv', plot_suffix='', threshold=0.0001):\n",
    "    t_out = pd.read_csv(f\"/Users/ethanratliff-crain/opt/anaconda3/envs/stan/bin/cmdstan/output{suffix}.csv\",\n",
    "                        comment='#')\n",
    "    t_betas = [t_out[col][0] for col in t_out.columns if 'beta' in col]\n",
    "    t_betas.sort()\n",
    "    ccdf = 1 - np.array(range(len(t_betas))) / len(t_betas)\n",
    "    print(max(np.abs(t_betas)))\n",
    "    plt.plot(t_betas, ccdf)\n",
    "    # plt.xscale('symlog')\n",
    "    plt.yscale('log')\n",
    "    beta_str = r'$\\beta$'\n",
    "    plt.xlabel(r'$\\beta$')\n",
    "    plt.ylabel(r'$\\mathrm{CCDF}$')\n",
    "    plt.title(f\"CCDF of {beta_str} values{plot_suffix}\")\n",
    "    plt.show()\n",
    "\n",
    "\n",
    "    t_betas = [t_out[col][0] for col in t_out.columns if 'beta' in col]\n",
    "    t_filtered = [x for x in t_betas if abs(x) > threshold]\n",
    "    print(len(t_filtered))\n",
    "    plt.hist(t_filtered, bins=100)\n",
    "    plt.title(f\"Histogram of {beta_str} values > {threshold}{plot_suffix}\")\n",
    "    plt.show()\n",
    "    print(len(t_filtered))\n",
    "\n",
    "visualize_betas(suffix='_indv_horseshoe', plot_suffix=' - Individual')\n",
    "# visualize_betas(suffix='_random_20', plot_suffix=' - Random')"
   ]
  },
  {
   "cell_type": "markdown",
   "metadata": {},
   "source": [
    "### Prior Predictive Checks"
   ]
  },
  {
   "cell_type": "markdown",
   "metadata": {},
   "source": [
    "#### 1. Laplace"
   ]
  },
  {
   "cell_type": "code",
   "execution_count": null,
   "metadata": {},
   "outputs": [],
   "source": [
    "double_exponential_rvs = sp.stats.laplace.rvs(loc=0, scale=0.5, size=18000)\n",
    "sns.histplot(double_exponential_rvs)\n",
    "print(f\"Expected number of genes with |B_i|>0.1: {sum(np.abs(double_exponential_rvs) > 0.1)/len(double_exponential_rvs)}\")"
   ]
  },
  {
   "cell_type": "markdown",
   "metadata": {},
   "source": [
    "#### 2. Horseshoe"
   ]
  },
  {
   "cell_type": "code",
   "execution_count": null,
   "metadata": {},
   "outputs": [],
   "source": [
    "# <!-- lambda ~ cauchy(0, 3);\n",
    "#   tau ~ cauchy(0, 1);\n",
    "#   for (i in 1:q) {\n",
    "#     beta[i] ~ normal(0, lambda[i] * tau);\n",
    "#   } -->\n",
    "lambda_rvs = sp.stats.cauchy.rvs(loc=0, scale=0.5, size=1000)\n",
    "tau_rvs = sp.stats.cauchy.rvs(loc=0, scale=1, size=100)\n",
    "sigma_rvs = []\n",
    "for i in range(len(tau_rvs)):\n",
    "    sigma_rvs.extend(lambda_rvs * tau_rvs[i])\n",
    "sigma_rvs = np.array(sigma_rvs)\n",
    "print(f\"sigmas greater than 1: {sum(np.abs(sigma_rvs > 0.5))/len(sigma_rvs)}\")\n",
    "plt.scatter([i for i in range(len(sigma_rvs))], sigma_rvs)"
   ]
  },
  {
   "cell_type": "markdown",
   "metadata": {},
   "source": [
    "We develop a multinomial model where the health status (Normal or Diseased) associated with a sample $m$ is the dependent variable $Y_m\\in\\{0,1\\}$ and the independent variable $X^m$ is the gene expression of the sample. We will model a score $Z=\\beta\\cdot X$, which can be converted into a probability of $Y_m$ given $(X^m,\\beta)$. In our initial implementation, we model the $\\beta$ values as being drawn from a normal distribution. Our model is therefore:\n",
    "$$Y\\in\\{0, 1\\}$$\n",
    "$$Y^i\\sim\\text{Bernoulli}\\left(\\rho_i\\right)$$\n",
    "$$Z_i=\\sum_j x_j^i\\beta_j$$\n",
    "$$\\rho_i=\\text{logit}\\left(Z_i\\right)$$\n",
    "$$\\beta_j\\sim Normal\\left(0,\\sigma\\right)$$\n",
    "$$\\sigma=1$$"
   ]
  },
  {
   "cell_type": "code",
   "execution_count": null,
   "metadata": {},
   "outputs": [],
   "source": [
    "base_stan_path = \"/Users/ethanratliff-crain/opt/anaconda3/envs/stan/bin/cmdstan\""
   ]
  },
  {
   "cell_type": "code",
   "execution_count": null,
   "metadata": {},
   "outputs": [],
   "source": [
    "# Note: below is based on Week 9 colab: https://colab.research.google.com/drive/1itBoJq9kUBVrEAkWWnsWtMB9RSrx1tt4?usp=sharing#scrollTo=abZBuL6lH-BL\n",
    "model_code = \"\"\"\n",
    "data {\n",
    "    int N;         // number of samples\n",
    "    int q;         // number of predictors\n",
    "    real X[N, q];  // predictors\n",
    "    int<lower=0,upper=1> Y[N];     // response\n",
    "    }\n",
    "parameters {\n",
    "    real alpha;\n",
    "    vector[q] beta;\n",
    "}\n",
    "transformed parameters {\n",
    "    real z[N];\n",
    "    for (i in 1:N) {\n",
    "        z[i] = alpha;\n",
    "        for (j in 1:q)\n",
    "        {\n",
    "            z[i] += beta[j] * X[i, j];   // add the effect of every predictor on the mean\n",
    "        }\n",
    "    }\n",
    "}\n",
    "model {\n",
    "    alpha ~ normal(0, 1);\n",
    "    beta ~ normal(0, 1);\n",
    "    for (i in 1:N) {\n",
    "        Y[i] ~ bernoulli_logit(z[i]);\n",
    "    }\n",
    "}\n",
    "\"\"\""
   ]
  },
  {
   "cell_type": "code",
   "execution_count": null,
   "metadata": {},
   "outputs": [],
   "source": [
    "# Note: below is based on Week 9 colab: https://colab.research.google.com/drive/1itBoJq9kUBVrEAkWWnsWtMB9RSrx1tt4?usp=sharing#scrollTo=abZBuL6lH-BL\n",
    "model_laplace = \"\"\"\n",
    "data {\n",
    "    int N;         // number of samples\n",
    "    int q;         // number of predictors\n",
    "    real X[N, q];  // predictors\n",
    "    int<lower=0,upper=1> Y[N];     // response\n",
    "    }\n",
    "parameters {\n",
    "    real alpha;\n",
    "    vector[q] beta;\n",
    "}\n",
    "transformed parameters {\n",
    "    real z[N];\n",
    "    for (i in 1:N) {\n",
    "        z[i] = alpha;\n",
    "        for (j in 1:q)\n",
    "        {\n",
    "            z[i] += beta[j] * X[i, j];   // add the effect of every predictor on the mean\n",
    "        }\n",
    "    }\n",
    "}\n",
    "model {\n",
    "    alpha ~ double_exponential(0, 1);\n",
    "    beta ~ double_exponential(0, 1);\n",
    "    for (i in 1:N) {\n",
    "        Y[i] ~ bernoulli_logit(z[i]);\n",
    "    }\n",
    "}\n",
    "\"\"\""
   ]
  },
  {
   "cell_type": "code",
   "execution_count": null,
   "metadata": {},
   "outputs": [],
   "source": [
    "model_horseshoe_old = \"\"\"\n",
    "data {\n",
    "  int<lower=0> n;\n",
    "  int<lower=0> p;\n",
    "  matrix[n,p] X;\n",
    "  vector[n] y;\n",
    "}\n",
    "parameters {\n",
    "  vector[p] beta;\n",
    "  vector<lower=0>[p] lambda;\n",
    "  real<lower=0> tau;\n",
    "  real<lower=0> sigma;\n",
    "}\n",
    "model {\n",
    "  lambda ~ cauchy(0, 1);\n",
    "  tau ~ cauchy(0, 1);\n",
    "  for (i in 1:p)\n",
    "    beta[i] ~ normal(0, lambda[i] * tau);\n",
    "  y ~ normal(X * beta, sigma);\n",
    "}\n",
    "\"\"\"\n",
    "\n",
    "model_horseshoe = \"\"\"data {\n",
    "  int N;         // number of samples\n",
    "  int q;         // number of predictors\n",
    "  real X[N, q];  // predictors\n",
    "  int<lower=0,upper=1> Y[N];     // response\n",
    "}\n",
    "parameters {\n",
    "  vector<lower=0>[q] lambda;\n",
    "  real<lower=0> tau;\n",
    "  vector[q] beta;\n",
    "}\n",
    "transformed parameters {\n",
    "    real z[N];\n",
    "    for (i in 1:N) {\n",
    "        z[i] = 0;\n",
    "        for (j in 1:q)\n",
    "        {\n",
    "            z[i] += beta[j] * X[i, j];   // add the effect of every predictor on the mean\n",
    "        }\n",
    "    }\n",
    "}\n",
    "model {\n",
    "  lambda ~ cauchy(0, 0.5);\n",
    "  tau ~ cauchy(0, 0.5);\n",
    "  for (i in 1:q) {\n",
    "    beta[i] ~ normal(0, lambda[i] * tau);\n",
    "  }\n",
    "  for (i in 1:N) {\n",
    "    Y[i] ~ bernoulli_logit(z[i]);\n",
    "  }\n",
    "}\n",
    "\"\"\"\n",
    "with open(base_stan_path + '/genes/model_norm/model_horseshoe.stan', 'w') as f:\n",
    "    f.write(model_horseshoe)"
   ]
  },
  {
   "cell_type": "code",
   "execution_count": null,
   "metadata": {},
   "outputs": [],
   "source": [
    "model_laplace_mix = \"\"\"data {\n",
    "    int N;         // number of samples\n",
    "    int q;         // number of predictors\n",
    "    real X[N, q];  // predictors\n",
    "    int<lower=0,upper=1> Y[N];     // response\n",
    "    }\n",
    "parameters {\n",
    "    real alpha_beta;\n",
    "    real alpha_gamma;\n",
    "    vector[q] beta;\n",
    "    vector[q] gamma;\n",
    "    real<lower=0,upper=1> pi;\n",
    "}\n",
    "transformed parameters {\n",
    "    real z[N];\n",
    "    for (i in 1:N) {\n",
    "        z[i] = pi * alpha_beta + (1-pi) * alpha_gamma;\n",
    "        for (j in 1:q)\n",
    "        {\n",
    "            z[i] += pi * beta[j] * X[i, j] + (1-pi) * gamma[j] * X[i, j];\n",
    "        }\n",
    "    }\n",
    "}\n",
    "model {\n",
    "    alpha_beta ~ double_exponential(0, 1);\n",
    "    alpha_gamma\n",
    "    pi ~ beta(1, 1);\n",
    "    beta ~ double_exponential(0, 1);\n",
    "    for (i in 1:N) {\n",
    "        Y[i] ~ bernoulli_logit(z[i]);\n",
    "    }\n",
    "}\n",
    "\"\"\""
   ]
  },
  {
   "cell_type": "code",
   "execution_count": 123,
   "metadata": {},
   "outputs": [],
   "source": [
    "# https://mc-stan.org/docs/stan-users-guide/multivariate-hierarchical-priors.html\n",
    "model_laplace_region = \"\"\"data {\n",
    "    int N;         // number of samples\n",
    "    int q;         // number of predictors\n",
    "    real X[N, q];  // predictors\n",
    "    int p;        // number of regions\n",
    "    int region[N]; // region of each sample\n",
    "    int<lower=0,upper=1> Y[N];     // response\n",
    "    }\n",
    "parameters {\n",
    "    vector[p] alpha;             // intercept for group\n",
    "    array[p] vector[q] beta;     // indiv coeffs by group\n",
    "    vector<lower=0>[p] sigma;    // scale for group coefficients\n",
    "    vector<lower=0>[p] mu;    // location for group coefficients\n",
    "}\n",
    "transformed parameters {\n",
    "    real z[N];\n",
    "    for (i in 1:N) {\n",
    "        z[i] = alpha[region[i]];\n",
    "        for (j in 1:q)\n",
    "        {\n",
    "            z[i] += beta[region[i], j] * X[i, j];   // add the effect of every predictor on the mean\n",
    "        }\n",
    "    }\n",
    "}\n",
    "model {\n",
    "    to_vector(sigma) ~ exponential(1);\n",
    "    to_vector(mu) ~ normal(0, 1);\n",
    "    for (j in 1:p){\n",
    "        alpha[j] ~ double_exponential(mu[j], sigma[j]);\n",
    "        for (i in 1:q) {\n",
    "            beta[j, i] ~ double_exponential(mu[j], sigma[j]);\n",
    "        }\n",
    "    }\n",
    "    for (i in 1:N) {\n",
    "        Y[i] ~ bernoulli_logit(z[i]);\n",
    "    }\n",
    "}\n",
    "\"\"\"\n",
    "with open(base_stan_path + '/genes/model_norm/model_laplace_region.stan', 'w') as f:\n",
    "    f.write(model_laplace_region)"
   ]
  },
  {
   "cell_type": "code",
   "execution_count": 127,
   "metadata": {},
   "outputs": [
    {
     "name": "stdout",
     "output_type": "stream",
     "text": [
      "     lp__       alpha.1       alpha.2  beta.1.1      beta.2.1      beta.1.2  \\\n",
      "0  257985  7.890170e-11  4.103280e-11  -0.11355  9.824650e-11  3.070060e-11   \n",
      "\n",
      "       beta.2.2      beta.1.3      beta.2.3      beta.1.4  ...    z.195  \\\n",
      "0 -4.825410e-11  3.143150e-11  1.514610e-11  3.106530e-11  ...  13.8531   \n",
      "\n",
      "     z.196    z.197  z.198    z.199    z.200    z.201    z.202   z.203  \\\n",
      "0  5.41151  10.4338  2.858  9.86868  4.34197  5.55586  3.76818  60.586   \n",
      "\n",
      "     z.204  \n",
      "0  30.1332  \n",
      "\n",
      "[1 rows x 37495 columns]\n",
      "204\n",
      "204\n"
     ]
    },
    {
     "data": {
      "image/png": "[encoded data removed]",
      "text/plain": [
       "<Figure size 640x480 with 1 Axes>"
      ]
     },
     "metadata": {},
     "output_type": "display_data"
    },
    {
     "name": "stdout",
     "output_type": "stream",
     "text": [
      "Training accuracy:\n",
      "         P(Y)  accuracy  samples\n",
      "Y                               \n",
      "0   15.309960        66       82\n",
      "1  106.999971       108      122\n"
     ]
    },
    {
     "data": {
      "image/png": "[encoded data removed]",
      "text/plain": [
       "<Figure size 640x480 with 1 Axes>"
      ]
     },
     "metadata": {},
     "output_type": "display_data"
    },
    {
     "name": "stdout",
     "output_type": "stream",
     "text": [
      "Test accuracy:\n",
      "        P(Y)  accuracy  samples\n",
      "Y                              \n",
      "0  27.269516         7       35\n",
      "1  23.987167        24       37\n"
     ]
    }
   ],
   "source": [
    "def visualize_results_regions(data, test_X, test_Y, test_regions, suffix='_indv', plot_suffix=''):\n",
    "    t_out = pd.read_csv(f\"/Users/ethanratliff-crain/opt/anaconda3/envs/stan/bin/cmdstan/output{suffix}.csv\",\n",
    "                        comment='#')\n",
    "    print(t_out.head())\n",
    "    t_betas = [[t_out[col][0] for col in t_out.columns if 'beta.1' in col],\n",
    "               [t_out[col][0] for col in t_out.columns if 'beta.2' in col],\n",
    "               [t_out[col][0] for col in t_out.columns if 'beta.3' in col]]\n",
    "\n",
    "    scaled = []\n",
    "    for i in range(len(data['X'])):\n",
    "        scaled.append(np.array(t_betas[data['region'][i]-1]) * data['X'][i][:])\n",
    "\n",
    "    # z = [t_out['alpha'][0] + sum(s) for s in scaled]\n",
    "    z = [sum(s) for s in scaled]\n",
    "    Y_tilde = np.exp(z) / (1 + np.exp(z))\n",
    "    print(len(data['Y']))\n",
    "    print(len(Y_tilde))\n",
    "    x_ax = []\n",
    "    for i in range(len(data['Y'])):\n",
    "        x_ax.append(str(data['Y'][i]) + ' ' + str(data['region'][i]))\n",
    "    plt.scatter(x_ax, Y_tilde, color='k', alpha=0.1, zorder=-10)\n",
    "    plt.ylabel(r'$P(Y)$')\n",
    "    plt.xlabel(r'$Y$')\n",
    "    plt.title(f\"Predictions on Training Data{plot_suffix}\")\n",
    "    plt.show()\n",
    "    print(\"Training accuracy:\")\n",
    "    accuracy = []\n",
    "    for i in range(len(Y_tilde)):\n",
    "        if Y_tilde[i] > 0.5:\n",
    "            accuracy.append(1 if data['Y'][i] == 1 else 0)\n",
    "        else:\n",
    "            accuracy.append(1 if data['Y'][i] == 0 else 0)\n",
    "    summary_table = pd.DataFrame({'Y': data['Y'], 'P(Y)': Y_tilde, 'accuracy': accuracy, 'samples': 1})\n",
    "    s_g = summary_table.groupby('Y').sum()\n",
    "    print(s_g)\n",
    "\n",
    "\n",
    "    scaled = []\n",
    "    for i in range(len(test_X)):\n",
    "        scaled.append(np.array(t_betas[test_regions[i]-1]) * test_X[i][:])\n",
    "    # z = [t_out['alpha'][0] + sum(s) for s in scaled]\n",
    "    z = [sum(s) for s in scaled]\n",
    "    Y_tilde = np.exp(z) / (1 + np.exp(z))\n",
    "    x_ax = []\n",
    "    for i in range(len(test_Y)):\n",
    "        x_ax.append(str(test_Y[i]) + ' ' + str(test_regions[i]))\n",
    "    plt.scatter(x_ax, Y_tilde, color='k', alpha=0.1, zorder=-10)\n",
    "    plt.ylabel(r'$P(Y)$')\n",
    "    plt.xlabel(r'$Y$')\n",
    "    # plt.yscale('log')\n",
    "    plt.title(f\"Predictions on Test Data{plot_suffix}\")\n",
    "    plt.show()\n",
    "\n",
    "    print(\"Test accuracy:\")\n",
    "    accuracy = []\n",
    "    for i in range(len(Y_tilde)):\n",
    "        if Y_tilde[i] > 0.5:\n",
    "            accuracy.append(1 if test_Y[i] == 1 else 0)\n",
    "        else:\n",
    "            accuracy.append(1 if test_Y[i] == 0 else 0)\n",
    "    summary_table = pd.DataFrame({'Y': test_Y, 'P(Y)': Y_tilde, 'accuracy': accuracy, 'samples': 1})\n",
    "    s_g = summary_table.groupby('Y').sum()\n",
    "    print(s_g)\n",
    "\n",
    "visualize_results_regions(data_indv, test_X_indv, test_Y_indv, test_region_indv, suffix='_indv_region', plot_suffix=' - Individual')"
   ]
  },
  {
   "cell_type": "code",
   "execution_count": null,
   "metadata": {},
   "outputs": [],
   "source": [
    "model = stan.build(model_laplace_region, data=data_indv)"
   ]
  },
  {
   "cell_type": "code",
   "execution_count": null,
   "metadata": {},
   "outputs": [],
   "source": [
    "fit = model.sample(num_chains=4, num_samples=1000)"
   ]
  },
  {
   "cell_type": "code",
   "execution_count": null,
   "metadata": {},
   "outputs": [],
   "source": [
    "fit_az = arviz.from_pystan(fit)\n",
    "arviz.summary(fit_az)"
   ]
  },
  {
   "cell_type": "code",
   "execution_count": null,
   "metadata": {},
   "outputs": [],
   "source": [
    "s_X = X[0]\n",
    "s_X.sort()\n",
    "print(max(s_X))\n",
    "sns.histplot(s_X)"
   ]
  },
  {
   "cell_type": "code",
   "execution_count": null,
   "metadata": {},
   "outputs": [],
   "source": [
    "# p_betas = [np.mean(x) for x in fit['beta']]\n",
    "# sns.histplot(p_betas, label='sampled')\n",
    "# sns.histplot(t_betas, label='optimized')\n",
    "# plt.show()\n",
    "\n",
    "plt.bar(np.abs(t_betas), label='optimized', bins=100)"
   ]
  },
  {
   "cell_type": "code",
   "execution_count": null,
   "metadata": {},
   "outputs": [],
   "source": [
    "az.plot_trace(fit_simple_az, var_names=['alpha', 'beta', 'sigma']);\n",
    "plt.tight_layout()"
   ]
  },
  {
   "cell_type": "code",
   "execution_count": null,
   "metadata": {},
   "outputs": [],
   "source": [
    "# any diverging transitions?\n",
    "print(\"Number of diverging samples: {}\".format(fit['divergent__'].sum()))"
   ]
  },
  {
   "cell_type": "code",
   "execution_count": null,
   "metadata": {},
   "outputs": [],
   "source": [
    "print(len(fit['beta']))"
   ]
  },
  {
   "cell_type": "code",
   "execution_count": null,
   "metadata": {},
   "outputs": [],
   "source": [
    "# posterior of z\n",
    "plt.figure(figsize=(4, 4))\n",
    "sns.kdeplot(fit['beta'][:])\n",
    "plt.xlabel(r\"$\\beta$\")\n",
    "plt.ylabel(\"Posterior density\")\n",
    "sns.despine()\n",
    "plt.legend()"
   ]
  },
  {
   "cell_type": "code",
   "execution_count": null,
   "metadata": {},
   "outputs": [],
   "source": [
    "# viz_scatter()\n",
    "from sklearn.metrics import confusion_matrix\n",
    "import random\n",
    "\n",
    "correct_guesses = 0\n",
    "total_guesses = 0\n",
    "# add simulated data points\n",
    "for i in range(10):\n",
    "    idx = np.random.randint(0, 4000)\n",
    "    scaled = [fit['beta'][:, idx] * x[:] for x in X]\n",
    "    z = [fit['alpha'][0, idx] + sum(s) for s in scaled]\n",
    "    Y_tilde = np.exp(z) / (1 + np.exp(z))\n",
    "    plt.scatter(Y, Y_tilde, color='k', alpha=0.1, zorder=-10)\n",
    "#     r = [random.random() for _ in range(len(Y_tilde))]\n",
    "#     correct_guesses += len(r[r < Y_tilde])\n",
    "#     total_guesses += len(r)\n",
    "\n",
    "# print(correct_guesses / total_guesses)\n",
    "\n",
    "plt.ylabel(r'$\\tilde{Y}$')\n",
    "plt.xlabel(r'$Y$')\n",
    "# plt.xlim(0, 1)\n",
    "# plt.ylim(0, 1)\n",
    "# sns.despine()"
   ]
  },
  {
   "cell_type": "code",
   "execution_count": null,
   "metadata": {},
   "outputs": [],
   "source": [
    "correct_guesses = 0\n",
    "total_guesses = 0\n",
    "# add simulated data points\n",
    "\n",
    "scaled = [np.array(t_betas) * x[:] for x in X]\n",
    "z = [t_out['alpha'][0] + sum(s) for s in scaled]\n",
    "Y_tilde = np.exp(z) / (1 + np.exp(z))\n",
    "plt.scatter(Y, Y_tilde, color='k', alpha=0.1, zorder=-10)\n",
    "plt.ylabel(r'$\\tilde{Y}$')\n",
    "plt.xlabel(r'$Y$')\n",
    "# plt.yscale('log')\n",
    "plt.title('Predictions on Training Data')\n",
    "\n",
    "plt.show()"
   ]
  },
  {
   "cell_type": "code",
   "execution_count": null,
   "metadata": {},
   "outputs": [],
   "source": [
    "correct_guesses = 0\n",
    "total_guesses = 0\n",
    "# add simulated data points\n",
    "sns.scatterplot(x=[i for i in range(len(t_betas))], y=t_betas)\n",
    "plt.show()\n",
    "\n",
    "scaled = [np.array(t_betas) * x[:] for x in test_X]\n",
    "z = [t_out['alpha'][0] + sum(s) for s in scaled]\n",
    "Y_tilde = np.exp(z) / (1 + np.exp(z))\n",
    "plt.scatter(test_Y, Y_tilde, color='k', alpha=0.1, zorder=-10)\n",
    "plt.ylabel(r'$\\tilde{Y}$')\n",
    "plt.xlabel(r'$Y$')\n",
    "# plt.yscale('log')\n",
    "plt.title('Predictions on Test Data')\n",
    "plt.show()\n",
    "\n",
    "z.sort()\n",
    "plt.scatter(z, np.exp(z) / (1 + np.exp(z)))\n",
    "plt.xlabel('z')\n",
    "plt.ylabel(r'$\\tilde{Y}$')\n",
    "\n",
    "accuracy = []\n",
    "for i in range(len(Y_tilde)):\n",
    "    if Y_tilde[i] > 0.5:\n",
    "        accuracy.append(1 if test_Y[i] == 1 else 0)\n",
    "    else:\n",
    "        accuracy.append(1 if test_Y[i] == 0 else 0)\n",
    "summary_table = pd.DataFrame({'ROI': test_column_list, 'Y': test_Y, 'P(Y)': Y_tilde, 'accuracy': accuracy, 'samples': 1})\n",
    "print(summary_table)\n",
    "s_g = summary_table.groupby('Y').sum()\n",
    "print(s_g)"
   ]
  },
  {
   "cell_type": "code",
   "execution_count": null,
   "metadata": {},
   "outputs": [],
   "source": [
    "X_to_use = np.array(X)\n",
    "X_to_use = [x[abs_betas > 0.01] for x in X_to_use]\n",
    "test_X_to_use = np.array(test_X)\n",
    "test_X_to_use = [x[abs_betas > 0.01] for x in test_X_to_use]\n",
    "scaled = [np.array(t_betas_to_use) * x[:] for x in X_to_use]\n",
    "z = [t_out['alpha'][0] + sum(s) for s in scaled]\n",
    "Y_tilde = np.exp(z) / (1 + np.exp(z))\n",
    "plt.scatter(Y, Y_tilde, color='k', alpha=0.1, zorder=-10)\n",
    "plt.ylabel(r'$\\tilde{Y}$')\n",
    "plt.xlabel(r'$Y$')\n",
    "# plt.yscale('log')\n",
    "plt.title('Predictions on Training Data')\n",
    "\n",
    "print(Y)\n",
    "print(Y_tilde)\n",
    "plt.show()"
   ]
  },
  {
   "cell_type": "markdown",
   "metadata": {},
   "source": [
    "From https://www.cs.bham.ac.uk/~axk/laplace.pdf,\n",
    "$$_t=\\frac{\\sum_n(y_n-\\sum_{t'\\neq t}w_{t'}x_{t'n})x_{tn}}{\\sum_n x^2_{tn}}$$\n"
   ]
  },
  {
   "cell_type": "markdown",
   "metadata": {},
   "source": [
    "### Evaluating the Laplace mixture model"
   ]
  },
  {
   "cell_type": "code",
   "execution_count": null,
   "metadata": {},
   "outputs": [],
   "source": [
    "t_out = pd.read_csv(\"/Users/ethanratliff-crain/opt/anaconda3/envs/stan/bin/cmdstan/output.csv\",\n",
    "                    comment='#')\n",
    "print(t_out.head())\n",
    "t_alpha_beta = t_out['alpha_beta'][0]\n",
    "t_alpha_gamma = t_out['alpha_gamma'][0]\n",
    "pi = t_out['pi'][0]\n",
    "print(pi)\n",
    "t_betas = [t_out[col][0] for col in t_out.columns if 'beta.' in col]\n",
    "t_gammas = [t_out[col][0] for col in t_out.columns if 'gamma.' in col]\n",
    "print(sum(t_betas))\n",
    "print(sum(t_gammas))\n",
    "abs_betas = np.abs(t_betas)\n",
    "np_betas = np.array(t_betas)\n",
    "# genes_to_use = df[abs_betas > 0.01]['gene']\n",
    "# t_betas_to_use = np_betas[abs_betas > 0.01]"
   ]
  },
  {
   "cell_type": "code",
   "execution_count": null,
   "metadata": {},
   "outputs": [],
   "source": [
    "### Laplace Mix Model - training data\n",
    "\n",
    "scaled = [pi * np.array(t_betas) * x[:] + (1-pi) * np.array(t_gammas) * x[:] for x in X]\n",
    "z = [t_out['alpha_beta'][0] + sum(s) for s in scaled]\n",
    "Y_tilde = np.exp(z) / (1 + np.exp(z))\n",
    "plt.scatter(Y, Y_tilde, color='k', alpha=0.1, zorder=-10)\n",
    "plt.ylabel(r'$\\tilde{Y}$')\n",
    "plt.xlabel(r'$Y$')\n",
    "# plt.yscale('log')\n",
    "plt.title('Predictions on Training Data')\n",
    "\n",
    "plt.show()"
   ]
  },
  {
   "cell_type": "code",
   "execution_count": null,
   "metadata": {},
   "outputs": [],
   "source": [
    "scaled = [pi * np.array(t_betas) * x[:] + (1-pi) * np.array(t_gammas) * x[:] for x in test_X]\n",
    "z = [t_out['alpha_beta'][0] + sum(s) for s in scaled]\n",
    "Y_tilde = np.exp(z) / (1 + np.exp(z))\n",
    "plt.scatter(test_Y, Y_tilde, color='k', alpha=0.1, zorder=-10)\n",
    "plt.ylabel(r'$\\tilde{Y}$')\n",
    "plt.xlabel(r'$Y$')\n",
    "# plt.yscale('log')\n",
    "plt.title('Predictions on Training Data')\n",
    "\n",
    "print(Y)\n",
    "print(Y_tilde)\n",
    "plt.show()\n",
    "\n",
    "sns.scatterplot(x=[i for i in range(len(t_betas))], y=t_betas, c='b', s=2, label='beta')\n",
    "sns.scatterplot(x=[i for i in range(len(t_gammas))], y=t_gammas, c='r', s=2, label='gamma')\n",
    "plt.show()\n",
    "\n",
    "accuracy = []\n",
    "for i in range(len(Y_tilde)):\n",
    "    if Y_tilde[i] > 0.5:\n",
    "        accuracy.append(1 if test_Y[i] == 1 else 0)\n",
    "    else:\n",
    "        accuracy.append(1 if test_Y[i] == 0 else 0)\n",
    "summary_table = pd.DataFrame({'ROI': test_column_list, 'Y': test_Y, 'P(Y)': Y_tilde, 'accuracy': accuracy, 'samples': 1})\n",
    "print(summary_table)\n",
    "s_g = summary_table.groupby('Y').sum()\n",
    "print(s_g)"
   ]
  },
  {
   "cell_type": "code",
   "execution_count": null,
   "metadata": {},
   "outputs": [],
   "source": []
  },
  {
   "cell_type": "code",
   "execution_count": null,
   "metadata": {},
   "outputs": [],
   "source": []
  },
  {
   "cell_type": "code",
   "execution_count": null,
   "metadata": {},
   "outputs": [],
   "source": []
  },
  {
   "cell_type": "code",
   "execution_count": null,
   "metadata": {},
   "outputs": [],
   "source": []
  }
 ],
 "metadata": {
  "kernelspec": {
   "display_name": "Python 3",
   "language": "python",
   "name": "python3"
  },
  "language_info": {
   "codemirror_mode": {
    "name": "ipython",
    "version": 3
   },
   "file_extension": ".py",
   "mimetype": "text/x-python",
   "name": "python",
   "nbconvert_exporter": "python",
   "pygments_lexer": "ipython3",
   "version": "3.9.16"
  }
 },
 "nbformat": 4,
 "nbformat_minor": 2
}
