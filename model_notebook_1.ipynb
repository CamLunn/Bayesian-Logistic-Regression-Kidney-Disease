{
 "cells": [
  {
   "cell_type": "code",
   "execution_count": 54,
   "metadata": {},
   "outputs": [],
   "source": [
    "# import numerical functions, plotting functions and statistical functions\n",
    "import numpy as np\n",
    "# !pip install pip\n",
    "# !pip install --upgrade pip\n",
    "# !pip install scipy\n",
    "import scipy as sp\n",
    "import scipy.stats\n",
    "import pandas as pd\n",
    "\n",
    "# !pip install pystan\n",
    "import stan\n",
    "# !pip install nest_asyncio\n",
    "import nest_asyncio\n",
    "nest_asyncio.apply()\n",
    "\n",
    "# !pip install arviz\n",
    "import arviz\n",
    "\n",
    "import matplotlib.pyplot as plt\n",
    "import seaborn as sns\n",
    "sns.set_style('ticks')"
   ]
  },
  {
   "cell_type": "code",
   "execution_count": 2,
   "metadata": {},
   "outputs": [],
   "source": [
    "# !pip uninstall numba\n",
    "# !pip install --upgrade numba"
   ]
  },
  {
   "cell_type": "code",
   "execution_count": 3,
   "metadata": {},
   "outputs": [],
   "source": [
    "def diagnose(name):\n",
    "    if 'disease' in name:\n",
    "        return 1\n",
    "    else:\n",
    "        return 0"
   ]
  },
  {
   "cell_type": "code",
   "execution_count": 55,
   "metadata": {},
   "outputs": [],
   "source": [
    "df = pd.read_csv('./data/kidney_countdata.txt', sep='\\t', quotechar='\"')\n",
    "df.rename(columns={'Unnamed: 0': 'gene'}, inplace=True)\n",
    "\n",
    "meta_df = pd.read_csv('./data/kidney_metadata.txt', sep='\\t', quotechar='\"')\n",
    "meta_df.rename(columns={'Unnamed: 0': 'ROI'}, inplace=True)\n",
    "meta_df['diagnosis'] = meta_df['slide name'].map(diagnose)"
   ]
  },
  {
   "cell_type": "code",
   "execution_count": 57,
   "metadata": {},
   "outputs": [
    {
     "name": "stdout",
     "output_type": "stream",
     "text": [
      "269\n"
     ]
    }
   ],
   "source": [
    "df = df.head(100)\n",
    "threshold = 10\n",
    "column_list = [col for col in df.columns if col != 'gene' and sum(df[col]) >= 10]\n",
    "print(len(column_list))"
   ]
  },
  {
   "cell_type": "code",
   "execution_count": 7,
   "metadata": {},
   "outputs": [
    {
     "data": {
      "image/png": "[encoded data removed]",
      "text/plain": [
       "<Figure size 640x480 with 1 Axes>"
      ]
     },
     "metadata": {},
     "output_type": "display_data"
    },
    {
     "data": {
      "text/plain": [
       "(array([22., 19.,  9., 10., 15., 11., 13., 29., 34., 17., 11., 12.,  6.,\n",
       "         4., 11.,  4.,  4.,  3.,  1.,  2.,  2.,  4.,  4.,  0.,  0.,  2.,\n",
       "         2.,  1.,  0.,  2.,  2.,  1.,  0.,  0.,  1.,  1.,  0.,  0.,  0.,\n",
       "         3.,  2.,  1.,  0.,  2.,  0.,  2.,  0.,  1.,  0.,  0.,  2.,  0.,\n",
       "         1.,  0.,  0.,  1.,  0.,  0.,  0.,  0.,  0.,  0.,  0.,  1.,  0.,\n",
       "         0.,  0.,  0.,  0.,  0.,  0.,  0.,  0.,  0.,  0.,  0.,  0.,  0.,\n",
       "         0.,  0.,  0.,  0.,  0.,  0.,  0.,  0.,  0.,  0.,  0.,  0.,  0.,\n",
       "         0.,  0.,  0.,  0.,  0.,  0.,  0.,  0.,  1.]),\n",
       " array([    0. ,   230.3,   460.6,   690.9,   921.2,  1151.5,  1381.8,\n",
       "         1612.1,  1842.4,  2072.7,  2303. ,  2533.3,  2763.6,  2993.9,\n",
       "         3224.2,  3454.5,  3684.8,  3915.1,  4145.4,  4375.7,  4606. ,\n",
       "         4836.3,  5066.6,  5296.9,  5527.2,  5757.5,  5987.8,  6218.1,\n",
       "         6448.4,  6678.7,  6909. ,  7139.3,  7369.6,  7599.9,  7830.2,\n",
       "         8060.5,  8290.8,  8521.1,  8751.4,  8981.7,  9212. ,  9442.3,\n",
       "         9672.6,  9902.9, 10133.2, 10363.5, 10593.8, 10824.1, 11054.4,\n",
       "        11284.7, 11515. , 11745.3, 11975.6, 12205.9, 12436.2, 12666.5,\n",
       "        12896.8, 13127.1, 13357.4, 13587.7, 13818. , 14048.3, 14278.6,\n",
       "        14508.9, 14739.2, 14969.5, 15199.8, 15430.1, 15660.4, 15890.7,\n",
       "        16121. , 16351.3, 16581.6, 16811.9, 17042.2, 17272.5, 17502.8,\n",
       "        17733.1, 17963.4, 18193.7, 18424. , 18654.3, 18884.6, 19114.9,\n",
       "        19345.2, 19575.5, 19805.8, 20036.1, 20266.4, 20496.7, 20727. ,\n",
       "        20957.3, 21187.6, 21417.9, 21648.2, 21878.5, 22108.8, 22339.1,\n",
       "        22569.4, 22799.7, 23030. ]),\n",
       " <BarContainer object of 100 artists>)"
      ]
     },
     "execution_count": 7,
     "metadata": {},
     "output_type": "execute_result"
    },
    {
     "data": {
      "image/png": "[encoded data removed]",
      "text/plain": [
       "<Figure size 640x480 with 1 Axes>"
      ]
     },
     "metadata": {},
     "output_type": "display_data"
    }
   ],
   "source": [
    "counts = [sum(df[col]) for col in df.columns[1:]]\n",
    "counts.sort()\n",
    "ccdf = 1.0 - np.arange(len(counts)) / len(counts)\n",
    "plt.plot(counts, ccdf)\n",
    "plt.xscale('log')\n",
    "plt.yscale('log')\n",
    "plt.show()\n",
    "plt.hist(counts, bins=100)\n",
    "# for col in df.columns[1:]:\n",
    "#     if sum(df[col]) < 10:\n",
    "#         print(col)\n",
    "#         print(sum(df[col]))"
   ]
  },
  {
   "cell_type": "markdown",
   "metadata": {},
   "source": [
    "We develop a multinomial model where the health status (Normal or Diseased) associated with a sample $m$ is the dependent variable $Y_m\\in\\{0,1\\}$ and the independent variable $X^m$ is the gene expression of the sample. We will model a score $Z=\\beta\\cdot X$, which can be converted into a probability of $Y_m$ given $(X^m,\\beta)$. In our initial implementation, we model the $\\beta$ values as being drawn from a normal distribution. Our model is therefore:\n",
    "$$Y\\in\\{0, 1\\}$$\n",
    "$$Y^i\\sim\\text{Bernoulli}\\left(\\rho_i\\right)$$\n",
    "$$Z_i=\\sum_j x_j^iB_j$$\n",
    "$$P\\left(Y_i\\right)=\\text{logit}\\left(Z_i\\right)$$\n",
    "$$B_j\\sim N\\left(0,\\sigma\\right)$$\n",
    "$$\\sigma=1$$"
   ]
  },
  {
   "cell_type": "code",
   "execution_count": 6,
   "metadata": {},
   "outputs": [],
   "source": [
    "# Note: below is based on Week 9 colab: https://colab.research.google.com/drive/1itBoJq9kUBVrEAkWWnsWtMB9RSrx1tt4?usp=sharing#scrollTo=abZBuL6lH-BL\n",
    "model_code = \"\"\"\n",
    "data {\n",
    "    int N;         // number of samples\n",
    "    int q;         // number of predictors\n",
    "    real X[N, q];  // predictors\n",
    "    int<lower=0,upper=1> Y[N];     // response\n",
    "    }\n",
    "parameters {\n",
    "    real alpha;\n",
    "    vector[q] beta;\n",
    "}\n",
    "transformed parameters {\n",
    "    real z[N];\n",
    "    for (i in 1:N) {\n",
    "        z[i] = alpha;\n",
    "        for (j in 1:q)\n",
    "        {\n",
    "            z[i] += beta[j] * X[i, j];   // add the effect of every predictor on the mean\n",
    "        }\n",
    "    }\n",
    "}\n",
    "model {\n",
    "    alpha ~ normal(0, 1);\n",
    "    beta ~ normal(0, 1);\n",
    "    for (i in 1:N) {\n",
    "        Y[i] ~ bernoulli_logit(z[i]);\n",
    "    }\n",
    "}\n",
    "\"\"\""
   ]
  },
  {
   "cell_type": "code",
   "execution_count": 58,
   "metadata": {},
   "outputs": [
    {
     "name": "stdout",
     "output_type": "stream",
     "text": [
      "269\n",
      "[[ 8.71880411 -0.40432952 -0.09375476 ... -0.26845306  0.08094355\n",
      "  -0.21022029]\n",
      " [ 8.20810743 -0.18260107 -0.28576552 ... -0.38892997  0.19566857\n",
      "  -0.01066033]\n",
      " [ 7.88050697 -0.59150013 -0.2064089  ... -0.43746364 -0.12939065\n",
      "   0.21719145]\n",
      " ...\n",
      " [ 0.08794091 -0.20730435 -0.03859277 ... -0.16512646 -0.23893777\n",
      "  -0.27057119]\n",
      " [ 7.82891365  0.17063189 -0.36679139 ... -0.23243557 -0.50114721\n",
      "  -0.36679139]\n",
      " [ 5.14868532 -0.23947374 -0.53881591 ... -0.43903518 -0.03991229\n",
      "  -0.23947374]]\n"
     ]
    }
   ],
   "source": [
    "\n",
    "# # Option 1: normalize by sum of all counts for an ROI, multiplied by 1,000 to prevent underflow\n",
    "# X = np.array([df[col]*10/sum(df[col]) for col in column_list])\n",
    "# print(len(X))\n",
    "\n",
    "# Option 2: normalize using z-score method:\n",
    "X = np.array([sp.stats.zscore(df[col]) for col in column_list])\n",
    "\n",
    "Y = []\n",
    "for col in column_list:\n",
    "    Y.append(meta_df[meta_df['ROI']==col]['diagnosis'].values[0])\n",
    "\n",
    "print(len(Y))\n",
    "print(X)"
   ]
  },
  {
   "cell_type": "code",
   "execution_count": 59,
   "metadata": {},
   "outputs": [
    {
     "name": "stdout",
     "output_type": "stream",
     "text": [
      "Building...\n"
     ]
    },
    {
     "name": "stderr",
     "output_type": "stream",
     "text": [
      "\n",
      "Building: found in cache, done.Messages from stanc:\n",
      "Warning in '/var/folders/kz/zvrl2np1735fmnw3g0klx3c40000gn/T/httpstan_b6bhz2yn/model_ducafblz.stan', line 5, column 4: Declaration\n",
      "    of arrays by placing brackets after a variable name is deprecated and\n",
      "    will be removed in Stan 2.33.0. Instead use the array keyword before the\n",
      "    type. This can be changed automatically using the auto-format flag to\n",
      "    stanc\n",
      "Warning in '/var/folders/kz/zvrl2np1735fmnw3g0klx3c40000gn/T/httpstan_b6bhz2yn/model_ducafblz.stan', line 6, column 4: Declaration\n",
      "    of arrays by placing brackets after a variable name is deprecated and\n",
      "    will be removed in Stan 2.33.0. Instead use the array keyword before the\n",
      "    type. This can be changed automatically using the auto-format flag to\n",
      "    stanc\n",
      "Warning in '/var/folders/kz/zvrl2np1735fmnw3g0klx3c40000gn/T/httpstan_b6bhz2yn/model_ducafblz.stan', line 13, column 4: Declaration\n",
      "    of arrays by placing brackets after a variable name is deprecated and\n",
      "    will be removed in Stan 2.33.0. Instead use the array keyword before the\n",
      "    type. This can be changed automatically using the auto-format flag to\n",
      "    stanc\n"
     ]
    }
   ],
   "source": [
    "model = stan.build(model_code, data={'N': len(X), 'q': len(df), 'X': X, 'Y': Y})"
   ]
  },
  {
   "cell_type": "code",
   "execution_count": 60,
   "metadata": {},
   "outputs": [
    {
     "name": "stderr",
     "output_type": "stream",
     "text": [
      "Sampling:   0%\n",
      "Sampling:   0% (1/8000)\n",
      "Sampling:   0% (2/8000)\n",
      "Sampling:   0% (3/8000)\n",
      "Sampling:   0% (4/8000)\n",
      "Sampling:   1% (103/8000)\n",
      "Sampling:   3% (202/8000)\n",
      "Sampling:   4% (301/8000)\n",
      "Sampling:   5% (400/8000)\n",
      "Sampling:   6% (500/8000)\n",
      "Sampling:   8% (600/8000)\n",
      "Sampling:   9% (700/8000)\n",
      "Sampling:  10% (800/8000)\n",
      "Sampling:  11% (900/8000)\n",
      "Sampling:  12% (1000/8000)\n",
      "Sampling:  14% (1100/8000)\n",
      "Sampling:  15% (1200/8000)\n",
      "Sampling:  16% (1300/8000)\n",
      "Sampling:  18% (1400/8000)\n",
      "Sampling:  19% (1500/8000)\n",
      "Sampling:  20% (1600/8000)\n",
      "Sampling:  21% (1700/8000)\n",
      "Sampling:  22% (1800/8000)\n",
      "Sampling:  24% (1900/8000)\n",
      "Sampling:  25% (2000/8000)\n",
      "Sampling:  26% (2100/8000)\n",
      "Sampling:  28% (2200/8000)\n",
      "Sampling:  29% (2300/8000)\n",
      "Sampling:  30% (2400/8000)\n",
      "Sampling:  31% (2500/8000)\n",
      "Sampling:  32% (2600/8000)\n",
      "Sampling:  34% (2700/8000)\n",
      "Sampling:  35% (2800/8000)\n",
      "Sampling:  36% (2900/8000)\n",
      "Sampling:  38% (3000/8000)\n",
      "Sampling:  39% (3100/8000)\n",
      "Sampling:  40% (3200/8000)\n",
      "Sampling:  41% (3300/8000)\n",
      "Sampling:  42% (3400/8000)\n",
      "Sampling:  44% (3500/8000)\n",
      "Sampling:  45% (3600/8000)\n",
      "Sampling:  46% (3701/8000)\n",
      "Sampling:  48% (3802/8000)\n",
      "Sampling:  49% (3903/8000)\n",
      "Sampling:  50% (4004/8000)\n",
      "Sampling:  51% (4103/8000)\n",
      "Sampling:  53% (4202/8000)\n",
      "Sampling:  54% (4301/8000)\n",
      "Sampling:  55% (4400/8000)\n",
      "Sampling:  56% (4500/8000)\n",
      "Sampling:  58% (4600/8000)\n",
      "Sampling:  59% (4700/8000)\n",
      "Sampling:  60% (4800/8000)\n",
      "Sampling:  61% (4900/8000)\n",
      "Sampling:  62% (5000/8000)\n",
      "Sampling:  64% (5100/8000)\n",
      "Sampling:  65% (5200/8000)\n",
      "Sampling:  66% (5300/8000)\n",
      "Sampling:  68% (5400/8000)\n",
      "Sampling:  69% (5500/8000)\n",
      "Sampling:  70% (5600/8000)\n",
      "Sampling:  71% (5700/8000)\n",
      "Sampling:  72% (5800/8000)\n",
      "Sampling:  74% (5900/8000)\n",
      "Sampling:  75% (6000/8000)\n",
      "Sampling:  76% (6100/8000)\n",
      "Sampling:  78% (6200/8000)\n",
      "Sampling:  79% (6300/8000)\n",
      "Sampling:  80% (6400/8000)\n",
      "Sampling:  81% (6500/8000)\n",
      "Sampling:  82% (6600/8000)\n",
      "Sampling:  84% (6700/8000)\n",
      "Sampling:  85% (6800/8000)\n",
      "Sampling:  86% (6900/8000)\n",
      "Sampling:  88% (7000/8000)\n",
      "Sampling:  89% (7100/8000)\n",
      "Sampling:  90% (7200/8000)\n",
      "Sampling:  91% (7300/8000)\n",
      "Sampling:  92% (7400/8000)\n",
      "Sampling:  94% (7500/8000)\n",
      "Sampling:  95% (7600/8000)\n",
      "Sampling:  96% (7700/8000)\n",
      "Sampling:  98% (7800/8000)\n",
      "Sampling:  99% (7900/8000)\n",
      "Sampling: 100% (8000/8000)\n",
      "Sampling: 100% (8000/8000), done.\n",
      "Messages received during sampling:\n",
      "  Gradient evaluation took 0.012781 seconds\n",
      "  1000 transitions using 10 leapfrog steps per transition would take 127.81 seconds.\n",
      "  Adjust your expectations accordingly!\n",
      "  Gradient evaluation took 0.004063 seconds\n",
      "  1000 transitions using 10 leapfrog steps per transition would take 40.63 seconds.\n",
      "  Adjust your expectations accordingly!\n",
      "  Gradient evaluation took 0.002837 seconds\n",
      "  1000 transitions using 10 leapfrog steps per transition would take 28.37 seconds.\n",
      "  Adjust your expectations accordingly!\n",
      "  Gradient evaluation took 0.007517 seconds\n",
      "  1000 transitions using 10 leapfrog steps per transition would take 75.17 seconds.\n",
      "  Adjust your expectations accordingly!\n"
     ]
    }
   ],
   "source": [
    "fit = model.sample(num_chains=4, num_samples=1000)"
   ]
  },
  {
   "cell_type": "code",
   "execution_count": 61,
   "metadata": {},
   "outputs": [
    {
     "data": {
      "text/html": [
       "<div>\n",
       "<style scoped>\n",
       "    .dataframe tbody tr th:only-of-type {\n",
       "        vertical-align: middle;\n",
       "    }\n",
       "\n",
       "    .dataframe tbody tr th {\n",
       "        vertical-align: top;\n",
       "    }\n",
       "\n",
       "    .dataframe thead th {\n",
       "        text-align: right;\n",
       "    }\n",
       "</style>\n",
       "<table border=\"1\" class=\"dataframe\">\n",
       "  <thead>\n",
       "    <tr style=\"text-align: right;\">\n",
       "      <th></th>\n",
       "      <th>mean</th>\n",
       "      <th>sd</th>\n",
       "      <th>hdi_3%</th>\n",
       "      <th>hdi_97%</th>\n",
       "      <th>mcse_mean</th>\n",
       "      <th>mcse_sd</th>\n",
       "      <th>ess_bulk</th>\n",
       "      <th>ess_tail</th>\n",
       "      <th>r_hat</th>\n",
       "    </tr>\n",
       "  </thead>\n",
       "  <tbody>\n",
       "    <tr>\n",
       "      <th>alpha</th>\n",
       "      <td>0.979</td>\n",
       "      <td>0.935</td>\n",
       "      <td>-0.750</td>\n",
       "      <td>2.733</td>\n",
       "      <td>0.012</td>\n",
       "      <td>0.012</td>\n",
       "      <td>6538.0</td>\n",
       "      <td>3030.0</td>\n",
       "      <td>1.0</td>\n",
       "    </tr>\n",
       "    <tr>\n",
       "      <th>beta[0]</th>\n",
       "      <td>-0.087</td>\n",
       "      <td>0.170</td>\n",
       "      <td>-0.411</td>\n",
       "      <td>0.220</td>\n",
       "      <td>0.003</td>\n",
       "      <td>0.002</td>\n",
       "      <td>4153.0</td>\n",
       "      <td>3586.0</td>\n",
       "      <td>1.0</td>\n",
       "    </tr>\n",
       "    <tr>\n",
       "      <th>beta[1]</th>\n",
       "      <td>-0.726</td>\n",
       "      <td>0.821</td>\n",
       "      <td>-2.183</td>\n",
       "      <td>0.851</td>\n",
       "      <td>0.010</td>\n",
       "      <td>0.010</td>\n",
       "      <td>7135.0</td>\n",
       "      <td>2717.0</td>\n",
       "      <td>1.0</td>\n",
       "    </tr>\n",
       "    <tr>\n",
       "      <th>beta[2]</th>\n",
       "      <td>-0.743</td>\n",
       "      <td>0.750</td>\n",
       "      <td>-2.121</td>\n",
       "      <td>0.669</td>\n",
       "      <td>0.009</td>\n",
       "      <td>0.009</td>\n",
       "      <td>6617.0</td>\n",
       "      <td>3156.0</td>\n",
       "      <td>1.0</td>\n",
       "    </tr>\n",
       "    <tr>\n",
       "      <th>beta[3]</th>\n",
       "      <td>1.085</td>\n",
       "      <td>0.818</td>\n",
       "      <td>-0.394</td>\n",
       "      <td>2.688</td>\n",
       "      <td>0.010</td>\n",
       "      <td>0.009</td>\n",
       "      <td>7059.0</td>\n",
       "      <td>3172.0</td>\n",
       "      <td>1.0</td>\n",
       "    </tr>\n",
       "    <tr>\n",
       "      <th>...</th>\n",
       "      <td>...</td>\n",
       "      <td>...</td>\n",
       "      <td>...</td>\n",
       "      <td>...</td>\n",
       "      <td>...</td>\n",
       "      <td>...</td>\n",
       "      <td>...</td>\n",
       "      <td>...</td>\n",
       "      <td>...</td>\n",
       "    </tr>\n",
       "    <tr>\n",
       "      <th>z[264]</th>\n",
       "      <td>15.043</td>\n",
       "      <td>2.638</td>\n",
       "      <td>10.275</td>\n",
       "      <td>20.162</td>\n",
       "      <td>0.036</td>\n",
       "      <td>0.026</td>\n",
       "      <td>5402.0</td>\n",
       "      <td>3546.0</td>\n",
       "      <td>1.0</td>\n",
       "    </tr>\n",
       "    <tr>\n",
       "      <th>z[265]</th>\n",
       "      <td>15.079</td>\n",
       "      <td>3.338</td>\n",
       "      <td>8.862</td>\n",
       "      <td>21.475</td>\n",
       "      <td>0.043</td>\n",
       "      <td>0.032</td>\n",
       "      <td>5923.0</td>\n",
       "      <td>3489.0</td>\n",
       "      <td>1.0</td>\n",
       "    </tr>\n",
       "    <tr>\n",
       "      <th>z[266]</th>\n",
       "      <td>1.884</td>\n",
       "      <td>0.747</td>\n",
       "      <td>0.475</td>\n",
       "      <td>3.285</td>\n",
       "      <td>0.010</td>\n",
       "      <td>0.008</td>\n",
       "      <td>5798.0</td>\n",
       "      <td>3019.0</td>\n",
       "      <td>1.0</td>\n",
       "    </tr>\n",
       "    <tr>\n",
       "      <th>z[267]</th>\n",
       "      <td>4.728</td>\n",
       "      <td>2.172</td>\n",
       "      <td>0.654</td>\n",
       "      <td>8.663</td>\n",
       "      <td>0.027</td>\n",
       "      <td>0.021</td>\n",
       "      <td>6748.0</td>\n",
       "      <td>3608.0</td>\n",
       "      <td>1.0</td>\n",
       "    </tr>\n",
       "    <tr>\n",
       "      <th>z[268]</th>\n",
       "      <td>13.210</td>\n",
       "      <td>2.447</td>\n",
       "      <td>8.568</td>\n",
       "      <td>17.701</td>\n",
       "      <td>0.032</td>\n",
       "      <td>0.023</td>\n",
       "      <td>5915.0</td>\n",
       "      <td>3192.0</td>\n",
       "      <td>1.0</td>\n",
       "    </tr>\n",
       "  </tbody>\n",
       "</table>\n",
       "<p>370 rows × 9 columns</p>\n",
       "</div>"
      ],
      "text/plain": [
       "           mean     sd  hdi_3%  hdi_97%  mcse_mean  mcse_sd  ess_bulk  \\\n",
       "alpha     0.979  0.935  -0.750    2.733      0.012    0.012    6538.0   \n",
       "beta[0]  -0.087  0.170  -0.411    0.220      0.003    0.002    4153.0   \n",
       "beta[1]  -0.726  0.821  -2.183    0.851      0.010    0.010    7135.0   \n",
       "beta[2]  -0.743  0.750  -2.121    0.669      0.009    0.009    6617.0   \n",
       "beta[3]   1.085  0.818  -0.394    2.688      0.010    0.009    7059.0   \n",
       "...         ...    ...     ...      ...        ...      ...       ...   \n",
       "z[264]   15.043  2.638  10.275   20.162      0.036    0.026    5402.0   \n",
       "z[265]   15.079  3.338   8.862   21.475      0.043    0.032    5923.0   \n",
       "z[266]    1.884  0.747   0.475    3.285      0.010    0.008    5798.0   \n",
       "z[267]    4.728  2.172   0.654    8.663      0.027    0.021    6748.0   \n",
       "z[268]   13.210  2.447   8.568   17.701      0.032    0.023    5915.0   \n",
       "\n",
       "         ess_tail  r_hat  \n",
       "alpha      3030.0    1.0  \n",
       "beta[0]    3586.0    1.0  \n",
       "beta[1]    2717.0    1.0  \n",
       "beta[2]    3156.0    1.0  \n",
       "beta[3]    3172.0    1.0  \n",
       "...           ...    ...  \n",
       "z[264]     3546.0    1.0  \n",
       "z[265]     3489.0    1.0  \n",
       "z[266]     3019.0    1.0  \n",
       "z[267]     3608.0    1.0  \n",
       "z[268]     3192.0    1.0  \n",
       "\n",
       "[370 rows x 9 columns]"
      ]
     },
     "execution_count": 61,
     "metadata": {},
     "output_type": "execute_result"
    }
   ],
   "source": [
    "fit_az = arviz.from_pystan(fit)\n",
    "arviz.summary(fit_az)"
   ]
  },
  {
   "cell_type": "code",
   "execution_count": 45,
   "metadata": {},
   "outputs": [
    {
     "ename": "NameError",
     "evalue": "name 'az' is not defined",
     "output_type": "error",
     "traceback": [
      "\u001b[0;31m---------------------------------------------------------------------------\u001b[0m",
      "\u001b[0;31mNameError\u001b[0m                                 Traceback (most recent call last)",
      "\u001b[1;32m/Users/ethanratliff-crain/githubProjects/Bayesian-Multinomial-Regression-Kidney-Disease/model_notebook_1.ipynb Cell 14\u001b[0m line \u001b[0;36m1\n\u001b[0;32m----> <a href='vscode-notebook-cell:/Users/ethanratliff-crain/githubProjects/Bayesian-Multinomial-Regression-Kidney-Disease/model_notebook_1.ipynb#X22sZmlsZQ%3D%3D?line=0'>1</a>\u001b[0m az\u001b[39m.\u001b[39mplot_trace(fit_simple_az, var_names\u001b[39m=\u001b[39m[\u001b[39m'\u001b[39m\u001b[39malpha\u001b[39m\u001b[39m'\u001b[39m, \u001b[39m'\u001b[39m\u001b[39mbeta\u001b[39m\u001b[39m'\u001b[39m, \u001b[39m'\u001b[39m\u001b[39msigma\u001b[39m\u001b[39m'\u001b[39m]);\n\u001b[1;32m      <a href='vscode-notebook-cell:/Users/ethanratliff-crain/githubProjects/Bayesian-Multinomial-Regression-Kidney-Disease/model_notebook_1.ipynb#X22sZmlsZQ%3D%3D?line=1'>2</a>\u001b[0m plt\u001b[39m.\u001b[39mtight_layout()\n",
      "\u001b[0;31mNameError\u001b[0m: name 'az' is not defined"
     ]
    }
   ],
   "source": [
    "az.plot_trace(fit_simple_az, var_names=['alpha', 'beta', 'sigma']);\n",
    "plt.tight_layout()"
   ]
  },
  {
   "cell_type": "code",
   "execution_count": 62,
   "metadata": {},
   "outputs": [
    {
     "name": "stdout",
     "output_type": "stream",
     "text": [
      "Number of diverging samples: 0.0\n"
     ]
    }
   ],
   "source": [
    "# any diverging transitions?\n",
    "print(\"Number of diverging samples: {}\".format(fit['divergent__'].sum()))"
   ]
  },
  {
   "cell_type": "code",
   "execution_count": 47,
   "metadata": {},
   "outputs": [
    {
     "name": "stdout",
     "output_type": "stream",
     "text": [
      "<stan.Fit>\n",
      "Parameters:\n",
      "    alpha: ()\n",
      "    beta: (1000,)\n",
      "    z: (272,)\n",
      "Draws: 4000\n"
     ]
    }
   ],
   "source": [
    "print(fit)"
   ]
  },
  {
   "cell_type": "code",
   "execution_count": 63,
   "metadata": {},
   "outputs": [
    {
     "name": "stderr",
     "output_type": "stream",
     "text": [
      "No artists with labels found to put in legend.  Note that artists whose label start with an underscore are ignored when legend() is called with no argument.\n"
     ]
    },
    {
     "data": {
      "text/plain": [
       "<matplotlib.legend.Legend at 0x7fec31673d00>"
      ]
     },
     "execution_count": 63,
     "metadata": {},
     "output_type": "execute_result"
    },
    {
     "data": {
      "image/png": "[encoded data removed]",
      "text/plain": [
       "<Figure size 400x400 with 1 Axes>"
      ]
     },
     "metadata": {},
     "output_type": "display_data"
    }
   ],
   "source": [
    "# posterior of z\n",
    "plt.figure(figsize=(4, 4))\n",
    "sns.kdeplot(fit['beta'][:])\n",
    "plt.xlabel(r\"$\\beta$\")\n",
    "plt.ylabel(\"Posterior density\")\n",
    "sns.despine()\n",
    "plt.legend()"
   ]
  },
  {
   "cell_type": "code",
   "execution_count": 64,
   "metadata": {},
   "outputs": [
    {
     "data": {
      "text/plain": [
       "Text(0.5, 0, '$Y$')"
      ]
     },
     "execution_count": 64,
     "metadata": {},
     "output_type": "execute_result"
    },
    {
     "data": {
      "image/png": "[encoded data removed]",
      "text/plain": [
       "<Figure size 640x480 with 1 Axes>"
      ]
     },
     "metadata": {},
     "output_type": "display_data"
    }
   ],
   "source": [
    "# viz_scatter()\n",
    "from sklearn.metrics import confusion_matrix\n",
    "import random\n",
    "\n",
    "correct_guesses = 0\n",
    "total_guesses = 0\n",
    "# add simulated data points\n",
    "for i in range(10):\n",
    "    idx = np.random.randint(0, 4000)\n",
    "    scaled = [fit['beta'][:, idx] * x[:] for x in X]\n",
    "    z = [fit['alpha'][0, idx] + sum(s) for s in scaled]\n",
    "    Y_tilde = np.exp(z) / (1 + np.exp(z))\n",
    "    plt.scatter(Y, Y_tilde, color='k', alpha=0.1, zorder=-10)\n",
    "#     r = [random.random() for _ in range(len(Y_tilde))]\n",
    "#     correct_guesses += len(r[r < Y_tilde])\n",
    "#     total_guesses += len(r)\n",
    "\n",
    "# print(correct_guesses / total_guesses)\n",
    "\n",
    "plt.ylabel(r'$\\tilde{Y}$')\n",
    "plt.xlabel(r'$Y$')\n",
    "# plt.xlim(0, 1)\n",
    "# plt.ylim(0, 1)\n",
    "# sns.despine()"
   ]
  },
  {
   "cell_type": "code",
   "execution_count": null,
   "metadata": {},
   "outputs": [],
   "source": []
  },
  {
   "cell_type": "code",
   "execution_count": null,
   "metadata": {},
   "outputs": [],
   "source": []
  },
  {
   "cell_type": "code",
   "execution_count": null,
   "metadata": {},
   "outputs": [],
   "source": []
  }
 ],
 "metadata": {
  "kernelspec": {
   "display_name": "Python 3",
   "language": "python",
   "name": "python3"
  },
  "language_info": {
   "codemirror_mode": {
    "name": "ipython",
    "version": 3
   },
   "file_extension": ".py",
   "mimetype": "text/x-python",
   "name": "python",
   "nbconvert_exporter": "python",
   "pygments_lexer": "ipython3",
   "version": "3.9.16"
  }
 },
 "nbformat": 4,
 "nbformat_minor": 2
}
